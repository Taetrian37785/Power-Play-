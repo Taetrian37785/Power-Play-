{
 "cells": [
  {
   "cell_type": "code",
   "execution_count": 1,
   "metadata": {},
   "outputs": [],
   "source": [
    "import pandas as pd \n",
    "import numpy as np\n",
    "import matplotlib.pyplot as plt \n",
    "import scipy.stats as sts\n",
    "from datetime import date"
   ]
  },
  {
   "cell_type": "code",
   "execution_count": 2,
   "metadata": {
    "scrolled": true
   },
   "outputs": [
    {
     "data": {
      "text/html": [
       "<div>\n",
       "<style scoped>\n",
       "    .dataframe tbody tr th:only-of-type {\n",
       "        vertical-align: middle;\n",
       "    }\n",
       "\n",
       "    .dataframe tbody tr th {\n",
       "        vertical-align: top;\n",
       "    }\n",
       "\n",
       "    .dataframe thead th {\n",
       "        text-align: right;\n",
       "    }\n",
       "</style>\n",
       "<table border=\"1\" class=\"dataframe\">\n",
       "  <thead>\n",
       "    <tr style=\"text-align: right;\">\n",
       "      <th></th>\n",
       "      <th>Country</th>\n",
       "      <th>Powerplant Name</th>\n",
       "      <th>gppd_idnr</th>\n",
       "      <th>Capacity (MW)</th>\n",
       "      <th>Latitude</th>\n",
       "      <th>Longitude</th>\n",
       "      <th>Primary Fuel</th>\n",
       "      <th>Owner</th>\n",
       "      <th>Source</th>\n",
       "    </tr>\n",
       "  </thead>\n",
       "  <tbody>\n",
       "  </tbody>\n",
       "</table>\n",
       "</div>"
      ],
      "text/plain": [
       "Empty DataFrame\n",
       "Columns: [Country, Powerplant Name, gppd_idnr, Capacity (MW), Latitude, Longitude, Primary Fuel, Owner, Source]\n",
       "Index: []"
      ]
     },
     "execution_count": 2,
     "metadata": {},
     "output_type": "execute_result"
    }
   ],
   "source": [
    "power_plants_source = pd.read_csv('Global Power Plant.csv')\n",
    "power_plants_source.head(0)"
   ]
  },
  {
   "cell_type": "code",
   "execution_count": 3,
   "metadata": {
    "scrolled": true
   },
   "outputs": [
    {
     "name": "stdout",
     "output_type": "stream",
     "text": [
      "29910\n"
     ]
    }
   ],
   "source": [
    "counting_of_pp = power_plants_source['Country'].count()\n",
    "print(counting_of_pp)"
   ]
  },
  {
   "cell_type": "code",
   "execution_count": 4,
   "metadata": {
    "scrolled": true
   },
   "outputs": [],
   "source": [
    "USA = power_plants_source.loc[(power_plants_source[\"Country\"] == 'United States of America')]\n",
    "#print(USA['Primary Fuel'].value_counts())Solar')]\n",
    "USA_gas = power_plants_source.loc[(power_plants_source[\"Country\"] == 'United States of America') & (power_plants_source[\"Primary Fuel\"] == 'Gas')]\n",
    "USA_solar= power_plants_source.loc[(power_plants_source[\"Country\"] == 'United States of America') & (power_plants_source[\"Primary Fuel\"] == 'Solar')]\n",
    "#USA['Country'].count()\n"
   ]
  },
  {
   "cell_type": "code",
   "execution_count": 5,
   "metadata": {
    "scrolled": true
   },
   "outputs": [
    {
     "name": "stdout",
     "output_type": "stream",
     "text": [
      " Solar power is produced at a total of  27369.85 and gas produces on total  525687.8999999999. All of which is measured in MW. Gas produces 19.20682429753908 times more energy than solar in the US.\n"
     ]
    }
   ],
   "source": [
    "solar_output_total = USA_solar['Capacity (MW)'].sum()\n",
    "gas_output_total = USA_gas['Capacity (MW)'].sum()\n",
    "Comparison_of_power = gas_output_total / solar_output_total\n",
    "txt1 = \" Solar power is produced at a total of  {Solar} and gas produces on total  {Gas}. All of which is measured in MW. Gas produces {multiple} times more energy than solar in the US.\".format(Solar = solar_output_total, Gas = gas_output_total, multiple = Comparison_of_power)\n",
    "print(txt1)"
   ]
  },
  {
   "cell_type": "code",
   "execution_count": 6,
   "metadata": {
    "scrolled": true
   },
   "outputs": [],
   "source": [
    "#Clean Energy tables\n",
    "USA_hydro= power_plants_source.loc[(power_plants_source[\"Country\"] == 'United States of America') & (power_plants_source[\"Primary Fuel\"] == 'Hydro')]\n",
    "USA_wind = power_plants_source.loc[(power_plants_source[\"Country\"] == 'United States of America') & (power_plants_source[\"Primary Fuel\"] == 'Wind')]\n",
    "USA_nuclear = power_plants_source.loc[(power_plants_source[\"Country\"] == 'United States of America') & (power_plants_source[\"Primary Fuel\"] == 'Nuclear')]\n",
    "USA_geothermal = power_plants_source.loc[(power_plants_source[\"Country\"] == 'United States of America') & (power_plants_source[\"Primary Fuel\"] == 'Geothermal')]\n",
    "USA_biomass = power_plants_source.loc[(power_plants_source[\"Country\"] == 'United States of America') & (power_plants_source[\"Primary Fuel\"] == 'Biomass')]\n",
    "USA_waste = power_plants_source.loc[(power_plants_source[\"Country\"] == 'United States of America') & (power_plants_source[\"Primary Fuel\"] == 'Waste')]\n",
    "#USA['Country'].count()"
   ]
  },
  {
   "cell_type": "code",
   "execution_count": 7,
   "metadata": {},
   "outputs": [
    {
     "name": "stdout",
     "output_type": "stream",
     "text": [
      "342888.75\n"
     ]
    }
   ],
   "source": [
    "hydro_sum = USA_hydro['Capacity (MW)'].sum()\n",
    "wind_sum = USA_wind['Capacity (MW)'].sum()\n",
    "nuclear_sum = USA_nuclear['Capacity (MW)'].sum()\n",
    "geothermal_sum = USA_geothermal['Capacity (MW)'].sum()\n",
    "biomass_sum = USA_biomass['Capacity (MW)'].sum()\n",
    "waste_sum = USA_waste['Capacity (MW)'].sum()\n",
    "clean_total = hydro_sum + wind_sum + nuclear_sum + geothermal_sum + biomass_sum + waste_sum + solar_output_total\n",
    "print(clean_total) "
   ]
  },
  {
   "cell_type": "code",
   "execution_count": 8,
   "metadata": {},
   "outputs": [
    {
     "name": "stdout",
     "output_type": "stream",
     "text": [
      "The power difference between dirty and clean power out put is roughly 2.467640889355512 times. In favor of dirty power.\n"
     ]
    }
   ],
   "source": [
    "USA_coal= power_plants_source.loc[(power_plants_source[\"Country\"] == 'United States of America') & (power_plants_source[\"Primary Fuel\"] == 'Coal')]\n",
    "USA_oil= power_plants_source.loc[(power_plants_source[\"Country\"] == 'United States of America') & (power_plants_source[\"Primary Fuel\"] == 'Oil')]\n",
    "#-------------------------------------------------\n",
    "coal_sum = USA_coal['Capacity (MW)'].sum()\n",
    "oil_sum =USA_oil['Capacity (MW)'].sum()\n",
    "dirty_power = coal_sum + oil_sum + gas_output_total\n",
    "power_output_comparison = dirty_power / clean_total\n",
    "print('The power difference between dirty and clean power out put is roughly {total_energies} times. In favor of dirty power.'. format(total_energies = power_output_comparison))"
   ]
  },
  {
   "cell_type": "code",
   "execution_count": 17,
   "metadata": {
    "scrolled": true
   },
   "outputs": [
    {
     "name": "stdout",
     "output_type": "stream",
     "text": [
      "0.21421388949111136\n"
     ]
    }
   ],
   "source": [
    "all_power_sum = power_plants_source['Capacity (MW)'].sum()\n",
    "US_total= USA['Capacity (MW)'].sum()\n",
    "print(US_total / all_power_sum)\n",
    "#print(US_total)"
   ]
  },
  {
   "cell_type": "code",
   "execution_count": 11,
   "metadata": {
    "scrolled": true
   },
   "outputs": [
    {
     "name": "stdout",
     "output_type": "stream",
     "text": [
      "164\n"
     ]
    }
   ],
   "source": [
    "test_number = power_plants_source['Country'].nunique()\n",
    "print(test_number)"
   ]
  },
  {
   "cell_type": "code",
   "execution_count": 32,
   "metadata": {},
   "outputs": [
    {
     "name": "stdout",
     "output_type": "stream",
     "text": [
      "13.3035\n",
      "71.292\n"
     ]
    }
   ],
   "source": [
    "coordinate_tes_min = USA['Latitude'].min()\n",
    "coordinate_test_max = USA['Latitude'].max()\n",
    "print(coordinate_tes_min)\n",
    "print(coordinate_test_max)"
   ]
  },
  {
   "cell_type": "code",
   "execution_count": 18,
   "metadata": {
    "scrolled": false
   },
   "outputs": [],
   "source": [
    "Africa_coord_x = power_plants_source.loc[(power_plants_source[\"Latitude\"] <37.27) & (power_plants_source[\"Latitude\"] > -35.65) ] \n",
    "Africa_coord_y = power_plants_source.loc[(power_plants_source[\"Longitude\"] > -19.3) & (power_plants_source[\"Longitude\"] < 51.08) ] \n",
    "coordinate_merge = pd.merge(test_coord_x, test_coord_y)\n",
    "\n",
    "#coordinate_merge['Country'].unique()\n",
    "#coordinate_merge.head(100)"
   ]
  },
  {
   "cell_type": "code",
   "execution_count": 24,
   "metadata": {},
   "outputs": [
    {
     "data": {
      "text/plain": [
       "array([], dtype=object)"
      ]
     },
     "execution_count": 24,
     "metadata": {},
     "output_type": "execute_result"
    }
   ],
   "source": [
    "north_america_coord_x = power_plants_source.loc[(power_plants_source[\"Latitude\"] <63.77) & (power_plants_source[\"Latitude\"] >24.94) ] \n",
    "north_america_coord_y = power_plants_source.loc[(power_plants_source[\"Longitude\"] >235.59) & (power_plants_source[\"Longitude\"] <292.96) ] \n",
    "\n",
    "\n",
    "#north_america_merge = pd.merge(north_america_coord_x, north_america_coord_y)\n",
    "north_america_coord_x['Country'].unique()\n"
   ]
  },
  {
   "cell_type": "code",
   "execution_count": 26,
   "metadata": {
    "scrolled": true
   },
   "outputs": [
    {
     "data": {
      "text/html": [
       "<div>\n",
       "<style scoped>\n",
       "    .dataframe tbody tr th:only-of-type {\n",
       "        vertical-align: middle;\n",
       "    }\n",
       "\n",
       "    .dataframe tbody tr th {\n",
       "        vertical-align: top;\n",
       "    }\n",
       "\n",
       "    .dataframe thead th {\n",
       "        text-align: right;\n",
       "    }\n",
       "</style>\n",
       "<table border=\"1\" class=\"dataframe\">\n",
       "  <thead>\n",
       "    <tr style=\"text-align: right;\">\n",
       "      <th></th>\n",
       "      <th>Country</th>\n",
       "      <th>Powerplant Name</th>\n",
       "      <th>gppd_idnr</th>\n",
       "      <th>Capacity (MW)</th>\n",
       "      <th>Latitude</th>\n",
       "      <th>Longitude</th>\n",
       "      <th>Primary Fuel</th>\n",
       "      <th>Owner</th>\n",
       "      <th>Source</th>\n",
       "    </tr>\n",
       "  </thead>\n",
       "  <tbody>\n",
       "    <tr>\n",
       "      <th>20849</th>\n",
       "      <td>United States of America</td>\n",
       "      <td>12 Applegate Solar LLC</td>\n",
       "      <td>USA0059371</td>\n",
       "      <td>1.9</td>\n",
       "      <td>40.2003</td>\n",
       "      <td>-74.5761</td>\n",
       "      <td>Solar</td>\n",
       "      <td>SunRay Power LLC</td>\n",
       "      <td>U.S. Energy Information Administration</td>\n",
       "    </tr>\n",
       "    <tr>\n",
       "      <th>20850</th>\n",
       "      <td>United States of America</td>\n",
       "      <td>126 Grove Solar LLC</td>\n",
       "      <td>USA0060858</td>\n",
       "      <td>2.0</td>\n",
       "      <td>42.0761</td>\n",
       "      <td>-71.4227</td>\n",
       "      <td>Solar</td>\n",
       "      <td>126 Grove Solar LLC</td>\n",
       "      <td>U.S. Energy Information Administration</td>\n",
       "    </tr>\n",
       "    <tr>\n",
       "      <th>20851</th>\n",
       "      <td>United States of America</td>\n",
       "      <td>1420 Coil Av #C</td>\n",
       "      <td>USA0057310</td>\n",
       "      <td>1.3</td>\n",
       "      <td>33.7943</td>\n",
       "      <td>-118.2414</td>\n",
       "      <td>Solar</td>\n",
       "      <td>Konoike Pacific</td>\n",
       "      <td>U.S. Energy Information Administration</td>\n",
       "    </tr>\n",
       "    <tr>\n",
       "      <th>20852</th>\n",
       "      <td>United States of America</td>\n",
       "      <td>145 Talmadge Solar</td>\n",
       "      <td>USA0057458</td>\n",
       "      <td>3.8</td>\n",
       "      <td>40.5358</td>\n",
       "      <td>-74.3913</td>\n",
       "      <td>Solar</td>\n",
       "      <td>Avidan Energy Solutions</td>\n",
       "      <td>U.S. Energy Information Administration</td>\n",
       "    </tr>\n",
       "    <tr>\n",
       "      <th>20853</th>\n",
       "      <td>United States of America</td>\n",
       "      <td>1515 S Caron Road</td>\n",
       "      <td>USA0007770</td>\n",
       "      <td>4.2</td>\n",
       "      <td>41.9084</td>\n",
       "      <td>-89.0466</td>\n",
       "      <td>Gas</td>\n",
       "      <td>Rochelle Municipal Utilities</td>\n",
       "      <td>U.S. Energy Information Administration</td>\n",
       "    </tr>\n",
       "    <tr>\n",
       "      <th>...</th>\n",
       "      <td>...</td>\n",
       "      <td>...</td>\n",
       "      <td>...</td>\n",
       "      <td>...</td>\n",
       "      <td>...</td>\n",
       "      <td>...</td>\n",
       "      <td>...</td>\n",
       "      <td>...</td>\n",
       "      <td>...</td>\n",
       "    </tr>\n",
       "    <tr>\n",
       "      <th>20944</th>\n",
       "      <td>United States of America</td>\n",
       "      <td>Adams Wind Farm</td>\n",
       "      <td>USA0056307</td>\n",
       "      <td>24.0</td>\n",
       "      <td>43.5548</td>\n",
       "      <td>-92.7241</td>\n",
       "      <td>Wind</td>\n",
       "      <td>Consolidated Edison Development Inc.</td>\n",
       "      <td>U.S. Energy Information Administration</td>\n",
       "    </tr>\n",
       "    <tr>\n",
       "      <th>20945</th>\n",
       "      <td>United States of America</td>\n",
       "      <td>Adams Wind Generations LLC</td>\n",
       "      <td>USA0057375</td>\n",
       "      <td>20.0</td>\n",
       "      <td>44.9169</td>\n",
       "      <td>-94.7356</td>\n",
       "      <td>Wind</td>\n",
       "      <td>Adams Wind Generations LLC</td>\n",
       "      <td>U.S. Energy Information Administration</td>\n",
       "    </tr>\n",
       "    <tr>\n",
       "      <th>20946</th>\n",
       "      <td>United States of America</td>\n",
       "      <td>Adelanto Solar  LLC</td>\n",
       "      <td>USA0059441</td>\n",
       "      <td>20.0</td>\n",
       "      <td>34.5572</td>\n",
       "      <td>-117.3775</td>\n",
       "      <td>Solar</td>\n",
       "      <td>Adelanto Solar  LLC</td>\n",
       "      <td>U.S. Energy Information Administration</td>\n",
       "    </tr>\n",
       "    <tr>\n",
       "      <th>20947</th>\n",
       "      <td>United States of America</td>\n",
       "      <td>Adelanto Solar II  LLC</td>\n",
       "      <td>USA0059440</td>\n",
       "      <td>7.0</td>\n",
       "      <td>34.5572</td>\n",
       "      <td>-117.3775</td>\n",
       "      <td>Solar</td>\n",
       "      <td>Adelanto Solar II  LLC</td>\n",
       "      <td>U.S. Energy Information Administration</td>\n",
       "    </tr>\n",
       "    <tr>\n",
       "      <th>20948</th>\n",
       "      <td>United States of America</td>\n",
       "      <td>Adelanto Solar Project</td>\n",
       "      <td>USA0057305</td>\n",
       "      <td>10.0</td>\n",
       "      <td>34.5508</td>\n",
       "      <td>-117.4353</td>\n",
       "      <td>Solar</td>\n",
       "      <td>Los Angeles Department of Water &amp; Power</td>\n",
       "      <td>U.S. Energy Information Administration</td>\n",
       "    </tr>\n",
       "  </tbody>\n",
       "</table>\n",
       "<p>100 rows × 9 columns</p>\n",
       "</div>"
      ],
      "text/plain": [
       "                        Country             Powerplant Name   gppd_idnr  \\\n",
       "20849  United States of America      12 Applegate Solar LLC  USA0059371   \n",
       "20850  United States of America         126 Grove Solar LLC  USA0060858   \n",
       "20851  United States of America             1420 Coil Av #C  USA0057310   \n",
       "20852  United States of America          145 Talmadge Solar  USA0057458   \n",
       "20853  United States of America           1515 S Caron Road  USA0007770   \n",
       "...                         ...                         ...         ...   \n",
       "20944  United States of America             Adams Wind Farm  USA0056307   \n",
       "20945  United States of America  Adams Wind Generations LLC  USA0057375   \n",
       "20946  United States of America         Adelanto Solar  LLC  USA0059441   \n",
       "20947  United States of America      Adelanto Solar II  LLC  USA0059440   \n",
       "20948  United States of America      Adelanto Solar Project  USA0057305   \n",
       "\n",
       "       Capacity (MW)  Latitude  Longitude Primary Fuel  \\\n",
       "20849            1.9   40.2003   -74.5761        Solar   \n",
       "20850            2.0   42.0761   -71.4227        Solar   \n",
       "20851            1.3   33.7943  -118.2414        Solar   \n",
       "20852            3.8   40.5358   -74.3913        Solar   \n",
       "20853            4.2   41.9084   -89.0466          Gas   \n",
       "...              ...       ...        ...          ...   \n",
       "20944           24.0   43.5548   -92.7241         Wind   \n",
       "20945           20.0   44.9169   -94.7356         Wind   \n",
       "20946           20.0   34.5572  -117.3775        Solar   \n",
       "20947            7.0   34.5572  -117.3775        Solar   \n",
       "20948           10.0   34.5508  -117.4353        Solar   \n",
       "\n",
       "                                         Owner  \\\n",
       "20849                         SunRay Power LLC   \n",
       "20850                      126 Grove Solar LLC   \n",
       "20851                          Konoike Pacific   \n",
       "20852                  Avidan Energy Solutions   \n",
       "20853             Rochelle Municipal Utilities   \n",
       "...                                        ...   \n",
       "20944     Consolidated Edison Development Inc.   \n",
       "20945               Adams Wind Generations LLC   \n",
       "20946                      Adelanto Solar  LLC   \n",
       "20947                   Adelanto Solar II  LLC   \n",
       "20948  Los Angeles Department of Water & Power   \n",
       "\n",
       "                                       Source  \n",
       "20849  U.S. Energy Information Administration  \n",
       "20850  U.S. Energy Information Administration  \n",
       "20851  U.S. Energy Information Administration  \n",
       "20852  U.S. Energy Information Administration  \n",
       "20853  U.S. Energy Information Administration  \n",
       "...                                       ...  \n",
       "20944  U.S. Energy Information Administration  \n",
       "20945  U.S. Energy Information Administration  \n",
       "20946  U.S. Energy Information Administration  \n",
       "20947  U.S. Energy Information Administration  \n",
       "20948  U.S. Energy Information Administration  \n",
       "\n",
       "[100 rows x 9 columns]"
      ]
     },
     "execution_count": 26,
     "metadata": {},
     "output_type": "execute_result"
    }
   ],
   "source": []
  }
 ],
 "metadata": {
  "kernelspec": {
   "display_name": "Python 3",
   "language": "python",
   "name": "python3"
  },
  "language_info": {
   "codemirror_mode": {
    "name": "ipython",
    "version": 3
   },
   "file_extension": ".py",
   "mimetype": "text/x-python",
   "name": "python",
   "nbconvert_exporter": "python",
   "pygments_lexer": "ipython3",
   "version": "3.6.10"
  }
 },
 "nbformat": 4,
 "nbformat_minor": 4
}
