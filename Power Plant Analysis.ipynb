{
 "cells": [
  {
   "cell_type": "code",
   "execution_count": 1,
   "metadata": {},
   "outputs": [],
   "source": [
    "import pandas as pd \n",
    "import numpy as np\n",
    "import matplotlib.pyplot as plt \n",
    "import scipy.stats as sts\n",
    "from datetime import date"
   ]
  },
  {
   "cell_type": "code",
   "execution_count": 2,
   "metadata": {
    "scrolled": true
   },
   "outputs": [
    {
     "data": {
      "text/html": [
       "<div>\n",
       "<style scoped>\n",
       "    .dataframe tbody tr th:only-of-type {\n",
       "        vertical-align: middle;\n",
       "    }\n",
       "\n",
       "    .dataframe tbody tr th {\n",
       "        vertical-align: top;\n",
       "    }\n",
       "\n",
       "    .dataframe thead th {\n",
       "        text-align: right;\n",
       "    }\n",
       "</style>\n",
       "<table border=\"1\" class=\"dataframe\">\n",
       "  <thead>\n",
       "    <tr style=\"text-align: right;\">\n",
       "      <th></th>\n",
       "      <th>Country</th>\n",
       "      <th>Powerplant Name</th>\n",
       "      <th>gppd_idnr</th>\n",
       "      <th>Capacity</th>\n",
       "      <th>Latitude</th>\n",
       "      <th>Longitude</th>\n",
       "      <th>Primary Fuel</th>\n",
       "      <th>Owner</th>\n",
       "      <th>Source</th>\n",
       "    </tr>\n",
       "  </thead>\n",
       "  <tbody>\n",
       "    <tr>\n",
       "      <th>0</th>\n",
       "      <td>Afghanistan</td>\n",
       "      <td>Kajaki Hydroelectric Power Plant Afghanistan</td>\n",
       "      <td>GEODB0040538</td>\n",
       "      <td>33.00</td>\n",
       "      <td>32.3220</td>\n",
       "      <td>65.1190</td>\n",
       "      <td>Hydro</td>\n",
       "      <td>NaN</td>\n",
       "      <td>GEODB</td>\n",
       "    </tr>\n",
       "    <tr>\n",
       "      <th>1</th>\n",
       "      <td>Afghanistan</td>\n",
       "      <td>Mahipar Hydroelectric Power Plant Afghanistan</td>\n",
       "      <td>GEODB0040541</td>\n",
       "      <td>66.00</td>\n",
       "      <td>34.5560</td>\n",
       "      <td>69.4787</td>\n",
       "      <td>Hydro</td>\n",
       "      <td>NaN</td>\n",
       "      <td>GEODB</td>\n",
       "    </tr>\n",
       "    <tr>\n",
       "      <th>2</th>\n",
       "      <td>Afghanistan</td>\n",
       "      <td>Naghlu Dam Hydroelectric Power Plant Afghanistan</td>\n",
       "      <td>GEODB0040534</td>\n",
       "      <td>100.00</td>\n",
       "      <td>34.6410</td>\n",
       "      <td>69.7170</td>\n",
       "      <td>Hydro</td>\n",
       "      <td>NaN</td>\n",
       "      <td>GEODB</td>\n",
       "    </tr>\n",
       "    <tr>\n",
       "      <th>3</th>\n",
       "      <td>Afghanistan</td>\n",
       "      <td>Nangarhar (Darunta) Hydroelectric Power Plant ...</td>\n",
       "      <td>GEODB0040536</td>\n",
       "      <td>11.55</td>\n",
       "      <td>34.4847</td>\n",
       "      <td>70.3633</td>\n",
       "      <td>Hydro</td>\n",
       "      <td>NaN</td>\n",
       "      <td>GEODB</td>\n",
       "    </tr>\n",
       "    <tr>\n",
       "      <th>4</th>\n",
       "      <td>Afghanistan</td>\n",
       "      <td>Northwest Kabul Power Plant Afghanistan</td>\n",
       "      <td>GEODB0040540</td>\n",
       "      <td>42.00</td>\n",
       "      <td>34.5638</td>\n",
       "      <td>69.1134</td>\n",
       "      <td>Gas</td>\n",
       "      <td>NaN</td>\n",
       "      <td>GEODB</td>\n",
       "    </tr>\n",
       "    <tr>\n",
       "      <th>5</th>\n",
       "      <td>Afghanistan</td>\n",
       "      <td>Pul-e-Khumri Hydroelectric Power Plant Afghani...</td>\n",
       "      <td>GEODB0040537</td>\n",
       "      <td>6.00</td>\n",
       "      <td>35.9416</td>\n",
       "      <td>68.7100</td>\n",
       "      <td>Hydro</td>\n",
       "      <td>NaN</td>\n",
       "      <td>GEODB</td>\n",
       "    </tr>\n",
       "    <tr>\n",
       "      <th>6</th>\n",
       "      <td>Afghanistan</td>\n",
       "      <td>Sarobi Dam Hydroelectric Power Plant Afghanistan</td>\n",
       "      <td>GEODB0040535</td>\n",
       "      <td>22.00</td>\n",
       "      <td>34.5865</td>\n",
       "      <td>69.7757</td>\n",
       "      <td>Hydro</td>\n",
       "      <td>NaN</td>\n",
       "      <td>GEODB</td>\n",
       "    </tr>\n",
       "    <tr>\n",
       "      <th>7</th>\n",
       "      <td>Albania</td>\n",
       "      <td>Bistrica 1</td>\n",
       "      <td>WRI1002169</td>\n",
       "      <td>27.00</td>\n",
       "      <td>39.9116</td>\n",
       "      <td>20.1047</td>\n",
       "      <td>Hydro</td>\n",
       "      <td>NaN</td>\n",
       "      <td>Energy Charter Secretariat</td>\n",
       "    </tr>\n",
       "    <tr>\n",
       "      <th>8</th>\n",
       "      <td>Albania</td>\n",
       "      <td>Fierza</td>\n",
       "      <td>WRI1002170</td>\n",
       "      <td>500.00</td>\n",
       "      <td>42.2514</td>\n",
       "      <td>20.0431</td>\n",
       "      <td>Hydro</td>\n",
       "      <td>NaN</td>\n",
       "      <td>Energy Charter Secretariat</td>\n",
       "    </tr>\n",
       "    <tr>\n",
       "      <th>9</th>\n",
       "      <td>Albania</td>\n",
       "      <td>Koman</td>\n",
       "      <td>WRI1002171</td>\n",
       "      <td>600.00</td>\n",
       "      <td>42.1033</td>\n",
       "      <td>19.8224</td>\n",
       "      <td>Hydro</td>\n",
       "      <td>NaN</td>\n",
       "      <td>Energy Charter Secretariat</td>\n",
       "    </tr>\n",
       "    <tr>\n",
       "      <th>10</th>\n",
       "      <td>Albania</td>\n",
       "      <td>Lanabregas</td>\n",
       "      <td>WRI1002172</td>\n",
       "      <td>5.00</td>\n",
       "      <td>41.3428</td>\n",
       "      <td>19.8964</td>\n",
       "      <td>Hydro</td>\n",
       "      <td>NaN</td>\n",
       "      <td>Energy Charter Secretariat</td>\n",
       "    </tr>\n",
       "    <tr>\n",
       "      <th>11</th>\n",
       "      <td>Albania</td>\n",
       "      <td>Shkopet</td>\n",
       "      <td>WRI1002173</td>\n",
       "      <td>24.00</td>\n",
       "      <td>41.6796</td>\n",
       "      <td>19.8305</td>\n",
       "      <td>Hydro</td>\n",
       "      <td>NaN</td>\n",
       "      <td>Energy Charter Secretariat</td>\n",
       "    </tr>\n",
       "    <tr>\n",
       "      <th>12</th>\n",
       "      <td>Albania</td>\n",
       "      <td>Ulez</td>\n",
       "      <td>WRI1002174</td>\n",
       "      <td>25.00</td>\n",
       "      <td>41.6796</td>\n",
       "      <td>19.8936</td>\n",
       "      <td>Hydro</td>\n",
       "      <td>NaN</td>\n",
       "      <td>Energy Charter Secretariat</td>\n",
       "    </tr>\n",
       "    <tr>\n",
       "      <th>13</th>\n",
       "      <td>Albania</td>\n",
       "      <td>Vau i Dijes</td>\n",
       "      <td>WRI1002175</td>\n",
       "      <td>250.00</td>\n",
       "      <td>42.0137</td>\n",
       "      <td>19.6359</td>\n",
       "      <td>Hydro</td>\n",
       "      <td>NaN</td>\n",
       "      <td>Energy Charter Secretariat</td>\n",
       "    </tr>\n",
       "    <tr>\n",
       "      <th>14</th>\n",
       "      <td>Albania</td>\n",
       "      <td>Vlora</td>\n",
       "      <td>WRI1002176</td>\n",
       "      <td>98.00</td>\n",
       "      <td>40.4874</td>\n",
       "      <td>19.4340</td>\n",
       "      <td>Other</td>\n",
       "      <td>NaN</td>\n",
       "      <td>Energy Charter Secretariat</td>\n",
       "    </tr>\n",
       "    <tr>\n",
       "      <th>15</th>\n",
       "      <td>Algeria</td>\n",
       "      <td>Ain Djasser</td>\n",
       "      <td>WRI1023776</td>\n",
       "      <td>520.00</td>\n",
       "      <td>35.8665</td>\n",
       "      <td>6.0262</td>\n",
       "      <td>Gas</td>\n",
       "      <td>SociÃ©te AlgÃ©rienne de Production de l\\'Elect...</td>\n",
       "      <td>Arab Union of Electricity</td>\n",
       "    </tr>\n",
       "    <tr>\n",
       "      <th>16</th>\n",
       "      <td>Algeria</td>\n",
       "      <td>Annaba</td>\n",
       "      <td>WRI1023795</td>\n",
       "      <td>71.00</td>\n",
       "      <td>36.8924</td>\n",
       "      <td>7.7634</td>\n",
       "      <td>Gas</td>\n",
       "      <td>SociÃ©tÃ© AlgÃ©rienne de Production de lâ€™Ele...</td>\n",
       "      <td>Arab Union of Electricity</td>\n",
       "    </tr>\n",
       "    <tr>\n",
       "      <th>17</th>\n",
       "      <td>Algeria</td>\n",
       "      <td>Arbaa</td>\n",
       "      <td>WRI1023777</td>\n",
       "      <td>560.00</td>\n",
       "      <td>36.5988</td>\n",
       "      <td>3.1375</td>\n",
       "      <td>Gas</td>\n",
       "      <td>Sonelgaz</td>\n",
       "      <td>Arab Union of Electricity</td>\n",
       "    </tr>\n",
       "    <tr>\n",
       "      <th>18</th>\n",
       "      <td>Algeria</td>\n",
       "      <td>Boufarik 1</td>\n",
       "      <td>WRI1023792</td>\n",
       "      <td>100.00</td>\n",
       "      <td>36.5914</td>\n",
       "      <td>2.9223</td>\n",
       "      <td>Gas</td>\n",
       "      <td>NaN</td>\n",
       "      <td>Arab Union of Electricity</td>\n",
       "    </tr>\n",
       "    <tr>\n",
       "      <th>19</th>\n",
       "      <td>Algeria</td>\n",
       "      <td>Boufarik 2</td>\n",
       "      <td>WRI1023793</td>\n",
       "      <td>450.00</td>\n",
       "      <td>36.5960</td>\n",
       "      <td>2.8780</td>\n",
       "      <td>Gas</td>\n",
       "      <td>NaN</td>\n",
       "      <td>Arab Union of Electricity</td>\n",
       "    </tr>\n",
       "  </tbody>\n",
       "</table>\n",
       "</div>"
      ],
      "text/plain": [
       "        Country                                    Powerplant Name  \\\n",
       "0   Afghanistan       Kajaki Hydroelectric Power Plant Afghanistan   \n",
       "1   Afghanistan      Mahipar Hydroelectric Power Plant Afghanistan   \n",
       "2   Afghanistan   Naghlu Dam Hydroelectric Power Plant Afghanistan   \n",
       "3   Afghanistan  Nangarhar (Darunta) Hydroelectric Power Plant ...   \n",
       "4   Afghanistan            Northwest Kabul Power Plant Afghanistan   \n",
       "5   Afghanistan  Pul-e-Khumri Hydroelectric Power Plant Afghani...   \n",
       "6   Afghanistan   Sarobi Dam Hydroelectric Power Plant Afghanistan   \n",
       "7       Albania                                         Bistrica 1   \n",
       "8       Albania                                             Fierza   \n",
       "9       Albania                                              Koman   \n",
       "10      Albania                                         Lanabregas   \n",
       "11      Albania                                            Shkopet   \n",
       "12      Albania                                               Ulez   \n",
       "13      Albania                                        Vau i Dijes   \n",
       "14      Albania                                              Vlora   \n",
       "15      Algeria                                        Ain Djasser   \n",
       "16      Algeria                                             Annaba   \n",
       "17      Algeria                                              Arbaa   \n",
       "18      Algeria                                         Boufarik 1   \n",
       "19      Algeria                                         Boufarik 2   \n",
       "\n",
       "       gppd_idnr  Capacity  Latitude  Longitude Primary Fuel  \\\n",
       "0   GEODB0040538     33.00   32.3220    65.1190        Hydro   \n",
       "1   GEODB0040541     66.00   34.5560    69.4787        Hydro   \n",
       "2   GEODB0040534    100.00   34.6410    69.7170        Hydro   \n",
       "3   GEODB0040536     11.55   34.4847    70.3633        Hydro   \n",
       "4   GEODB0040540     42.00   34.5638    69.1134          Gas   \n",
       "5   GEODB0040537      6.00   35.9416    68.7100        Hydro   \n",
       "6   GEODB0040535     22.00   34.5865    69.7757        Hydro   \n",
       "7     WRI1002169     27.00   39.9116    20.1047        Hydro   \n",
       "8     WRI1002170    500.00   42.2514    20.0431        Hydro   \n",
       "9     WRI1002171    600.00   42.1033    19.8224        Hydro   \n",
       "10    WRI1002172      5.00   41.3428    19.8964        Hydro   \n",
       "11    WRI1002173     24.00   41.6796    19.8305        Hydro   \n",
       "12    WRI1002174     25.00   41.6796    19.8936        Hydro   \n",
       "13    WRI1002175    250.00   42.0137    19.6359        Hydro   \n",
       "14    WRI1002176     98.00   40.4874    19.4340        Other   \n",
       "15    WRI1023776    520.00   35.8665     6.0262          Gas   \n",
       "16    WRI1023795     71.00   36.8924     7.7634          Gas   \n",
       "17    WRI1023777    560.00   36.5988     3.1375          Gas   \n",
       "18    WRI1023792    100.00   36.5914     2.9223          Gas   \n",
       "19    WRI1023793    450.00   36.5960     2.8780          Gas   \n",
       "\n",
       "                                                Owner  \\\n",
       "0                                                 NaN   \n",
       "1                                                 NaN   \n",
       "2                                                 NaN   \n",
       "3                                                 NaN   \n",
       "4                                                 NaN   \n",
       "5                                                 NaN   \n",
       "6                                                 NaN   \n",
       "7                                                 NaN   \n",
       "8                                                 NaN   \n",
       "9                                                 NaN   \n",
       "10                                                NaN   \n",
       "11                                                NaN   \n",
       "12                                                NaN   \n",
       "13                                                NaN   \n",
       "14                                                NaN   \n",
       "15  SociÃ©te AlgÃ©rienne de Production de l\\'Elect...   \n",
       "16  SociÃ©tÃ© AlgÃ©rienne de Production de lâ€™Ele...   \n",
       "17                                           Sonelgaz   \n",
       "18                                                NaN   \n",
       "19                                                NaN   \n",
       "\n",
       "                        Source  \n",
       "0                        GEODB  \n",
       "1                        GEODB  \n",
       "2                        GEODB  \n",
       "3                        GEODB  \n",
       "4                        GEODB  \n",
       "5                        GEODB  \n",
       "6                        GEODB  \n",
       "7   Energy Charter Secretariat  \n",
       "8   Energy Charter Secretariat  \n",
       "9   Energy Charter Secretariat  \n",
       "10  Energy Charter Secretariat  \n",
       "11  Energy Charter Secretariat  \n",
       "12  Energy Charter Secretariat  \n",
       "13  Energy Charter Secretariat  \n",
       "14  Energy Charter Secretariat  \n",
       "15   Arab Union of Electricity  \n",
       "16   Arab Union of Electricity  \n",
       "17   Arab Union of Electricity  \n",
       "18   Arab Union of Electricity  \n",
       "19   Arab Union of Electricity  "
      ]
     },
     "execution_count": 2,
     "metadata": {},
     "output_type": "execute_result"
    }
   ],
   "source": [
    "power_plants_csv = pd.read_csv('Global Power Plant.csv')\n",
    "#Thanks to dbouquin for compuling the data for this https://github.com/dbouquin/IS_608\n",
    "world_countries_source_A = pd.read_csv('Countries-Continents.csv')\n",
    "power_plants_source = power_plants_csv.rename(columns = {'Capacity (MW)': 'Capacity'})\n",
    "world_countries_source = world_countries_source_A\n",
    "power_plants_source.head(20)"
   ]
  },
  {
   "cell_type": "code",
   "execution_count": 3,
   "metadata": {
    "scrolled": true
   },
   "outputs": [
    {
     "name": "stdout",
     "output_type": "stream",
     "text": [
      "29910\n"
     ]
    }
   ],
   "source": [
    "counting_of_pp = power_plants_source['Country'].count()\n",
    "print(counting_of_pp)"
   ]
  },
  {
   "cell_type": "code",
   "execution_count": 4,
   "metadata": {
    "scrolled": true
   },
   "outputs": [
    {
     "name": "stdout",
     "output_type": "stream",
     "text": [
      "1193616.45\n"
     ]
    }
   ],
   "source": [
    "USA = power_plants_source.loc[(power_plants_source[\"Country\"] == 'United States of America')]\n",
    "#print(USA['Primary Fuel'].value_counts())Solar')]\n",
    "USA_gas = power_plants_source.loc[(power_plants_source[\"Country\"] == 'United States of America') & (power_plants_source[\"Primary Fuel\"] == 'Gas')]\n",
    "USA_solar= power_plants_source.loc[(power_plants_source[\"Country\"] == 'United States of America') & (power_plants_source[\"Primary Fuel\"] == 'Solar')]\n",
    "#USA['Country'].count()\n",
    "print(USA['Capacity'].sum())"
   ]
  },
  {
   "cell_type": "code",
   "execution_count": 5,
   "metadata": {
    "scrolled": true
   },
   "outputs": [
    {
     "name": "stdout",
     "output_type": "stream",
     "text": [
      " Solar power is produced at a total of  27369.85 and gas produces on total  525687.8999999999. All of which is measured in MW. Gas produces 19.20682429753908 times more energy than solar in the US.\n"
     ]
    }
   ],
   "source": [
    "solar_output_total = USA_solar['Capacity'].sum()\n",
    "gas_output_total = USA_gas['Capacity'].sum()\n",
    "Comparison_of_power = gas_output_total / solar_output_total\n",
    "txt1 = \" Solar power is produced at a total of  {Solar} and gas produces on total  {Gas}. All of which is measured in MW. Gas produces {multiple} times more energy than solar in the US.\".format(Solar = solar_output_total, Gas = gas_output_total, multiple = Comparison_of_power)\n",
    "print(txt1)"
   ]
  },
  {
   "cell_type": "code",
   "execution_count": 6,
   "metadata": {
    "scrolled": true
   },
   "outputs": [],
   "source": [
    "#Clean Energy tables\n",
    "USA_hydro= power_plants_source.loc[(power_plants_source[\"Country\"] == 'United States of America') & (power_plants_source[\"Primary Fuel\"] == 'Hydro')]\n",
    "USA_wind = power_plants_source.loc[(power_plants_source[\"Country\"] == 'United States of America') & (power_plants_source[\"Primary Fuel\"] == 'Wind')]\n",
    "USA_nuclear = power_plants_source.loc[(power_plants_source[\"Country\"] == 'United States of America') & (power_plants_source[\"Primary Fuel\"] == 'Nuclear')]\n",
    "USA_geothermal = power_plants_source.loc[(power_plants_source[\"Country\"] == 'United States of America') & (power_plants_source[\"Primary Fuel\"] == 'Geothermal')]\n",
    "USA_biomass = power_plants_source.loc[(power_plants_source[\"Country\"] == 'United States of America') & (power_plants_source[\"Primary Fuel\"] == 'Biomass')]\n",
    "USA_waste = power_plants_source.loc[(power_plants_source[\"Country\"] == 'United States of America') & (power_plants_source[\"Primary Fuel\"] == 'Waste')]\n",
    "#USA['Country'].count()"
   ]
  },
  {
   "cell_type": "code",
   "execution_count": 7,
   "metadata": {},
   "outputs": [
    {
     "name": "stdout",
     "output_type": "stream",
     "text": [
      "342888.75\n"
     ]
    }
   ],
   "source": [
    "hydro_sum = USA_hydro['Capacity'].sum()\n",
    "wind_sum = USA_wind['Capacity'].sum()\n",
    "nuclear_sum = USA_nuclear['Capacity'].sum()\n",
    "geothermal_sum = USA_geothermal['Capacity'].sum()\n",
    "biomass_sum = USA_biomass['Capacity'].sum()\n",
    "waste_sum = USA_waste['Capacity'].sum()\n",
    "clean_total = hydro_sum + wind_sum + nuclear_sum + geothermal_sum + biomass_sum + waste_sum + solar_output_total\n",
    "print(clean_total) "
   ]
  },
  {
   "cell_type": "code",
   "execution_count": 8,
   "metadata": {},
   "outputs": [
    {
     "name": "stdout",
     "output_type": "stream",
     "text": [
      "The power difference between dirty and clean power out put is roughly 2.467640889355512 times. In favor of dirty power.\n"
     ]
    }
   ],
   "source": [
    "USA_coal= power_plants_source.loc[(power_plants_source[\"Country\"] == 'United States of America') & (power_plants_source[\"Primary Fuel\"] == 'Coal')]\n",
    "USA_oil= power_plants_source.loc[(power_plants_source[\"Country\"] == 'United States of America') & (power_plants_source[\"Primary Fuel\"] == 'Oil')]\n",
    "#-------------------------------------------------\n",
    "coal_sum = USA_coal['Capacity'].sum()\n",
    "oil_sum =USA_oil['Capacity'].sum()\n",
    "dirty_power = coal_sum + oil_sum + gas_output_total\n",
    "power_output_comparison = dirty_power / clean_total\n",
    "print('The power difference between dirty and clean power out put is roughly {total_energies} times. In favor of dirty power.'. format(total_energies = power_output_comparison))"
   ]
  },
  {
   "cell_type": "code",
   "execution_count": 9,
   "metadata": {
    "scrolled": true
   },
   "outputs": [
    {
     "name": "stdout",
     "output_type": "stream",
     "text": [
      "0.21421388949111136\n"
     ]
    }
   ],
   "source": [
    "all_power_sum = power_plants_source['Capacity'].sum()\n",
    "US_total= USA['Capacity'].sum()\n",
    "print(US_total / all_power_sum)\n",
    "#print(US_total)"
   ]
  },
  {
   "cell_type": "code",
   "execution_count": 10,
   "metadata": {
    "scrolled": true
   },
   "outputs": [
    {
     "name": "stdout",
     "output_type": "stream",
     "text": [
      "164\n"
     ]
    }
   ],
   "source": [
    "test_number = power_plants_source['Country'].nunique()\n",
    "print(test_number)"
   ]
  },
  {
   "cell_type": "code",
   "execution_count": 11,
   "metadata": {},
   "outputs": [
    {
     "name": "stdout",
     "output_type": "stream",
     "text": [
      "-171.7124\n",
      "144.8999\n"
     ]
    }
   ],
   "source": [
    "coordinate_tes_min = USA['Longitude'].min()\n",
    "coordinate_test_max = USA['Longitude'].max()\n",
    "print(coordinate_tes_min)\n",
    "print(coordinate_test_max)"
   ]
  },
  {
   "cell_type": "code",
   "execution_count": 12,
   "metadata": {
    "scrolled": true
   },
   "outputs": [],
   "source": [
    "africa = world_countries_source.loc[(world_countries_source[\"Continent\"] == 'Africa')]\n",
    "african_countries = list(africa['Country'])\n",
    "#thing = ['Algeria', 'Angola', 'Benin', 'Botswana', 'Burkina', 'Burundi', 'Cameroon', 'Cape Verde', 'Central African Republic', 'Chad', 'Comoros', 'Congo', 'Congo, Democratic Republic of', 'Djibouti', 'Egypt', 'Equatorial Guinea', 'Eritrea', 'Ethiopia', 'Gabon', 'Gambia', 'Ghana', 'Guinea', 'Guinea-Bissau', 'Ivory Coast', 'Kenya', 'Lesotho', 'Liberia', 'Libya', 'Madagascar', 'Malawi', 'Mali', 'Mauritania', 'Mauritius', 'Morocco', 'Mozambique', 'Namibia', 'Niger', 'Nigeria', 'Rwanda', 'Sao Tome and Principe', 'Senegal', 'Seychelles', 'Sierra Leone', 'Somalia', 'South Africa', 'South Sudan', 'Sudan', 'Swaziland', 'Tanzania', 'Togo', 'Tunisia', 'Uganda', 'Zambia', 'Zimbabwe']\n",
    "#capacity_values = []\n",
    "#for row in power_plants_source.iterrows():\n",
    " #   if power_plants_source['Country']  thing:\n",
    "  #      capacity_values.append(row['Capacity (MW)'])\n",
    "#prit(capacity_values)\n",
    "#print(african_countries)\n"
   ]
  },
  {
   "cell_type": "code",
   "execution_count": 13,
   "metadata": {
    "scrolled": false
   },
   "outputs": [],
   "source": [
    "country_name = []\n",
    "capacity_amount= []\n",
    "#print(power_plants_source.keys())\n",
    "\n",
    "for country in african_countries:\n",
    "    country_test = power_plants_source.loc[(power_plants_source['Country'] == country)]\n",
    "    #print(country_test.keys())\n",
    "    country_name.append(country_test['Country'])\n",
    "    capacity_amount.append(country_test['Capacity'])\n",
    "#print(country_name)"
   ]
  },
  {
   "cell_type": "code",
   "execution_count": 14,
   "metadata": {
    "scrolled": false
   },
   "outputs": [
    {
     "data": {
      "text/plain": [
       "array(['Africa', 'Asia', 'Europe', 'North America', 'Oceania',\n",
       "       'South America'], dtype=object)"
      ]
     },
     "execution_count": 14,
     "metadata": {},
     "output_type": "execute_result"
    }
   ],
   "source": [
    "world_countries_source['Continent'].unique()"
   ]
  },
  {
   "cell_type": "code",
   "execution_count": 15,
   "metadata": {
    "scrolled": true
   },
   "outputs": [],
   "source": [
    "capacity_continent = power_plants_source[['Country' , 'Capacity']]\n",
    "african_names = {\n",
    "    'Country' : african_countries\n",
    "}\n",
    "africa_country = pd.DataFrame(african_names)\n",
    "power_capacity = pd.DataFrame(capacity_continent)\n",
    "africa_merge = pd.merge(power_capacity, africa_country, how = 'right')\n",
    "clean_africa_merge = africa_merge.dropna()"
   ]
  },
  {
   "cell_type": "code",
   "execution_count": 16,
   "metadata": {
    "scrolled": true
   },
   "outputs": [],
   "source": [
    "North_America = world_countries_source.loc[(world_countries_source[\"Continent\"] == 'North America')]\n",
    "North_America_countries = list(North_America['Country'])\n",
    "north_ameroca_name = {\n",
    "    'Country' : North_America_countries\n",
    "}\n",
    "NA_country = pd.DataFrame(north_ameroca_name)\n",
    "na_rename = NA_country.replace({'US' : \"United States of America\"})\n",
    "na_merge = pd.merge(power_capacity, na_rename, how = 'right')     \n",
    "clean_na_merge= na_merge.dropna()\n",
    "#na_merge"
   ]
  },
  {
   "cell_type": "code",
   "execution_count": 17,
   "metadata": {
    "scrolled": true
   },
   "outputs": [],
   "source": [
    "South_America = world_countries_source.loc[(world_countries_source[\"Continent\"] == 'South America')]\n",
    "South_America_countries = list(South_America['Country'])\n",
    "south_ameroca_name = {\n",
    "    'Country' : South_America_countries\n",
    "}\n",
    "SA_country = pd.DataFrame(south_ameroca_name)\n",
    "power_capacity = pd.DataFrame(capacity_continent)\n",
    "sa_merge = pd.merge(power_capacity, SA_country, how = 'right')     \n",
    "clean_sa_merge = sa_merge.dropna()\n",
    "#sa_merge"
   ]
  },
  {
   "cell_type": "code",
   "execution_count": 18,
   "metadata": {
    "scrolled": false
   },
   "outputs": [],
   "source": [
    "europe = world_countries_source.loc[(world_countries_source[\"Continent\"] == 'Europe')]\n",
    "europe_countries = list(europe['Country'])\n",
    "europe_names = {\n",
    "    'Country' : europe_countries\n",
    "}\n",
    "europe_country = pd.DataFrame(europe_names)\n",
    "europe_merge = pd.merge(power_capacity, europe_country, how = 'right')\n",
    "clean_europe_merge = europe_merge.dropna()\n",
    "#clean_europe_merge"
   ]
  },
  {
   "cell_type": "code",
   "execution_count": 19,
   "metadata": {
    "scrolled": false
   },
   "outputs": [],
   "source": [
    "asia = world_countries_source.loc[(world_countries_source[\"Continent\"] == 'Asia')]\n",
    "asia_countries = list(asia['Country'])\n",
    "asia_names = {\n",
    "    'Country' : asia_countries\n",
    "}\n",
    "asia_country = pd.DataFrame(asia_names)\n",
    "asia_merge_rename = asia_country.replace({'Korea, North': 'North Korea', \n",
    "                                          'Korea, South': 'South Korea',\n",
    "                                          'Russian Federation': 'Russia',\n",
    "                                          'Syria': 'Syrian Arab Republic',\n",
    "                                          'Brunei':  'Brunei Darussalam'})\n",
    "asia_merge = pd.merge(power_capacity, asia_merge_rename, how = 'right')\n",
    "clean_asia_merge = asia_merge.dropna()\n",
    "#asia_merge"
   ]
  },
  {
   "cell_type": "code",
   "execution_count": 20,
   "metadata": {
    "scrolled": true
   },
   "outputs": [],
   "source": [
    "oceania = world_countries_source.loc[(world_countries_source[\"Continent\"] == 'Oceania')]\n",
    "oceania_countries = list(oceania['Country'])\n",
    "oceania_names = {\n",
    "    'Country' : oceania_countries\n",
    "}\n",
    "oceania_country = pd.DataFrame(oceania_names)\n",
    "#power_capacity.query('Country = Australia')\n",
    "oceania_merge = pd.merge(power_capacity, oceania_country, how = 'right')\n",
    "clean_oceania_merge = oceania_merge.dropna()\n"
   ]
  },
  {
   "cell_type": "code",
   "execution_count": 21,
   "metadata": {
    "scrolled": true
   },
   "outputs": [
    {
     "name": "stdout",
     "output_type": "stream",
     "text": [
      "['Afghanistan' 'Albania' 'Algeria' 'Angola' 'Antarctica' 'Argentina'\n",
      " 'Armenia' 'Australia' 'Austria' 'Azerbaijan' 'Bahrain' 'Bangladesh'\n",
      " 'Belarus' 'Belgium' 'Benin' 'Bhutan' 'Bolivia' 'Bosnia and Herzegovina'\n",
      " 'Botswana' 'Brazil' 'Brunei Darussalam' 'Bulgaria' 'Burkina Faso'\n",
      " 'Burundi' 'Cambodia' 'Cameroon' 'Canada' 'Cape Verde'\n",
      " 'Central African Republic' 'Chile' 'China' 'Colombia' 'Congo'\n",
      " 'Costa Rica' 'Cote DIvoire' 'Croatia' 'Cuba' 'Cyprus' 'Czech Republic'\n",
      " 'Democratic Republic of the Congo' 'Denmark' 'Djibouti'\n",
      " 'Dominican Republic' 'Ecuador' 'Egypt' 'El Salvador' 'Equatorial Guinea'\n",
      " 'Eritrea' 'Estonia' 'Ethiopia' 'Fiji' 'Finland' 'France' 'French Guiana'\n",
      " 'Gabon' 'Gambia' 'Georgia' 'Germany' 'Ghana' 'Greece' 'Guatemala'\n",
      " 'Guinea' 'Guinea-Bissau' 'Guyana' 'Honduras' 'Hungary' 'Iceland' 'India'\n",
      " 'Indonesia' 'Iran' 'Iraq' 'Ireland' 'Israel' 'Italy' 'Jamaica' 'Japan'\n",
      " 'Jordan' 'Kazakhstan' 'Kenya' 'Kosovo' 'Kuwait' 'Kyrgyzstan' 'Laos'\n",
      " 'Latvia' 'Lebanon' 'Lesotho' 'Liberia' 'Libya' 'Lithuania' 'Luxembourg'\n",
      " 'Macedonia' 'Madagascar' 'Malawi' 'Malaysia' 'Mali' 'Mauritania'\n",
      " 'Mauritius' 'Mexico' 'Moldova' 'Mongolia' 'Montenegro' 'Morocco'\n",
      " 'Mozambique' 'Myanmar' 'Namibia' 'Nepal' 'Netherlands' 'New Zealand'\n",
      " 'Nicaragua' 'Niger' 'Nigeria' 'North Korea' 'Norway' 'Oman' 'Pakistan'\n",
      " 'Panama' 'Papua New Guinea' 'Paraguay' 'Peru' 'Philippines' 'Poland'\n",
      " 'Portugal' 'Qatar' 'Romania' 'Russia' 'Rwanda' 'Saudi Arabia' 'Senegal'\n",
      " 'Serbia' 'Sierra Leone' 'Singapore' 'Slovakia' 'Slovenia' 'South Africa'\n",
      " 'South Korea' 'Spain' 'Sri Lanka' 'Sudan' 'Swaziland' 'Sweden'\n",
      " 'Switzerland' 'Syrian Arab Republic' 'Taiwan' 'Tajikistan' 'Tanzania'\n",
      " 'Thailand' 'Togo' 'Trinidad and Tobago' 'Tunisia' 'Turkey' 'Turkmenistan'\n",
      " 'Uganda' 'Ukraine' 'United Arab Emirates' 'United Kingdom'\n",
      " 'United States of America' 'Uruguay' 'Uzbekistan' 'Venezuela' 'Vietnam'\n",
      " 'Western Sahara' 'Yemen' 'Zambia' 'Zimbabwe']\n"
     ]
    }
   ],
   "source": [
    "print(power_plants_source['Country'].unique())\n",
    "#print(oceania_names)\n",
    "#print('Marshall Islands ,Micronesia, Nauru, Palau, ''Palau'', ''Papua' 'New Guinea'', ''Samoa'', 'Solomon Islands', 'Tonga', 'Tuvalu', 'Vanuatu''')"
   ]
  },
  {
   "cell_type": "code",
   "execution_count": 22,
   "metadata": {
    "scrolled": true
   },
   "outputs": [
    {
     "name": "stdout",
     "output_type": "stream",
     "text": [
      "0.2541888807787018\n"
     ]
    }
   ],
   "source": [
    "africa_total_power = clean_africa_merge['Capacity'].sum()\n",
    "na_total_power = clean_na_merge['Capacity'].sum()\n",
    "sa_total_power = clean_sa_merge['Capacity'].sum()\n",
    "asia_total_power = clean_asia_merge['Capacity'].sum()\n",
    "europe_total_power = clean_europe_merge['Capacity'].sum()\n",
    "oceania_total_power = clean_oceania_merge['Capacity'].sum()\n",
    "\n",
    "#Continental power contributions \n",
    "cont_africa = africa_total_power/all_power_sum\n",
    "cont_na = na_total_power/all_power_sum\n",
    "cont_sa = sa_total_power/all_power_sum\n",
    "cont_asia = asia_total_power/all_power_sum\n",
    "cont_europe = europe_total_power/all_power_sum\n",
    "cont_oceania = oceania_total_power/all_power_sum\n",
    "print(cont_na)"
   ]
  },
  {
   "cell_type": "code",
   "execution_count": 51,
   "metadata": {
    "scrolled": false
   },
   "outputs": [
    {
     "data": {
      "text/plain": [
       "([<matplotlib.patches.Wedge at 0x1997ae23748>,\n",
       "  <matplotlib.patches.Wedge at 0x1997adb1668>,\n",
       "  <matplotlib.patches.Wedge at 0x1997add49b0>,\n",
       "  <matplotlib.patches.Wedge at 0x1997ae72710>,\n",
       "  <matplotlib.patches.Wedge at 0x1997ae7c160>,\n",
       "  <matplotlib.patches.Wedge at 0x1997ae7cb70>],\n",
       " [Text(-0.09638364081316268, 1.0957692246926811, 'Afroca'),\n",
       "  Text(-1.0783298264003107, -0.21726662305903258, 'Asia'),\n",
       "  Text(0.6925656070265825, -0.8546068569604981, 'Europe'),\n",
       "  Text(1.0227654497630496, 0.4049084276364066, 'North America'),\n",
       "  Text(0.3712661163977431, 1.035452302530125, 'Oceania'),\n",
       "  Text(0.165776490183328, 1.087436506331518, 'South America')],\n",
       " [Text(-0.05257289498899782, 0.597692304377826, '2.8%'),\n",
       "  Text(-0.5881799053092603, -0.11850906712310866, '50.7%'),\n",
       "  Text(0.3777630583781359, -0.4661491947057262, '14.6%'),\n",
       "  Text(0.5578720635071178, 0.22085914234713086, '25.7%'),\n",
       "  Text(0.20250879076240533, 0.5647921650164318, '1.3%'),\n",
       "  Text(0.09042354009999708, 0.5931471852717369, '4.8%')])"
      ]
     },
     "execution_count": 51,
     "metadata": {},
     "output_type": "execute_result"
    },
    {
     "data": {
      "image/png": "[encoded data removed]",
      "text/plain": [
       "<Figure size 432x288 with 1 Axes>"
      ]
     },
     "metadata": {},
     "output_type": "display_data"
    }
   ],
   "source": [
    "continent_power = [africa_total_power, asia_total_power, europe_total_power, na_total_power, oceania_total_power, sa_total_power]\n",
    "# Labels for the sections of our pie chart\n",
    "labels = [\"Afroca\", \"Asia\", \"Europe\", \"North America\" , \"Oceania\", \"South America\"]\n",
    "\n",
    "# The colors of each section of the pie chart\n",
    "colors = [\"orange\", \"green\", \"blue\", \"gold\" , \"purple\" , \"red\"]\n",
    "\n",
    "# Tells matplotlib to seperate the \"Humans\" section from the others\n",
    "explode = (0.1, 0, 0, .5)\n",
    "plt.pie(continent_power,  labels=labels, colors=colors,\n",
    "        autopct=\"%1.1f%%\", shadow=True, startangle=90)"
   ]
  },
  {
   "cell_type": "code",
   "execution_count": 56,
   "metadata": {
    "scrolled": true
   },
   "outputs": [],
   "source": [
    "asia_power_contributers = asia_merge.groupby(['Country'], as_index = False).sum()\n",
    "asia_country_power_value = asia_power_contributers['Capacity']\n",
    "countries_only_asia_conributers = asia_power_contributers['Country']\n",
    "\n",
    "# Labels for the sections of our pie chart\n",
    "asia_members = [asia_names]\n",
    "\n"
   ]
  },
  {
   "cell_type": "code",
   "execution_count": 65,
   "metadata": {},
   "outputs": [],
   "source": [
    "na_power_contributers = na_merge.groupby(['Country'], as_index = False).sum()\n",
    "na_country_power_value = na_power_contributers['Capacity']\n",
    "countries_only_na_conributers = na_power_contributers['Country']"
   ]
  },
  {
   "cell_type": "code",
   "execution_count": 59,
   "metadata": {},
   "outputs": [],
   "source": [
    "sa_power_contributers = sa_merge.groupby(['Country'], as_index = False).sum()\n",
    "sa_country_power_value = sa_power_contributers['Capacity']\n",
    "countries_only_sa_conributers = sa_power_contributers['Country']"
   ]
  },
  {
   "cell_type": "code",
   "execution_count": 60,
   "metadata": {},
   "outputs": [],
   "source": [
    "europe_power_contributers = europe_merge.groupby(['Country'], as_index = False).sum()\n",
    "europe_country_power_value = europe_power_contributers['Capacity']\n",
    "countries_only_europe_conributers = europe_power_contributers['Country']"
   ]
  },
  {
   "cell_type": "code",
   "execution_count": 64,
   "metadata": {},
   "outputs": [],
   "source": [
    "oceania_power_contributers = oceania_merge.groupby(['Country'], as_index = False).sum()\n",
    "oceania_country_power_value = oceania_power_contributers['Capacity']\n",
    "countries_only_oceania_conributers = oceania_power_contributers['Country']"
   ]
  },
  {
   "cell_type": "code",
   "execution_count": 63,
   "metadata": {},
   "outputs": [],
   "source": [
    "africa_power_contributers = africa_merge.groupby(['Country'], as_index = False).sum()\n",
    "africa_country_power_value = africa_power_contributers['Capacity']\n",
    "countries_only_africa_conributers = africa_power_contributers['Country']"
   ]
  }
 ],
 "metadata": {
  "kernelspec": {
   "display_name": "Python 3",
   "language": "python",
   "name": "python3"
  },
  "language_info": {
   "codemirror_mode": {
    "name": "ipython",
    "version": 3
   },
   "file_extension": ".py",
   "mimetype": "text/x-python",
   "name": "python",
   "nbconvert_exporter": "python",
   "pygments_lexer": "ipython3",
   "version": "3.6.10"
  }
 },
 "nbformat": 4,
 "nbformat_minor": 4
}
