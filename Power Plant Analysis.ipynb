{
 "cells": [
  {
   "cell_type": "code",
   "execution_count": 1,
   "metadata": {},
   "outputs": [],
   "source": [
    "import pandas as pd \n",
    "import numpy as np\n",
    "import matplotlib.pyplot as plt \n",
    "import scipy.stats as sts\n",
    "from datetime import date"
   ]
  },
  {
   "cell_type": "code",
   "execution_count": 57,
   "metadata": {
    "scrolled": true
   },
   "outputs": [],
   "source": [
    "power_plants_source = pd.read_csv('Global Power Plant.csv')\n",
    "#Thanks to dbouquin for compuling the data for this https://github.com/dbouquin/IS_608\n",
    "world_countries_source_A = pd.read_csv('Countries-Continents.csv')\n",
    "world_countries_source_A.at[167, 'Country'] = 'United States of America'\n",
    "world_countries_source = world_countries_source_A\n",
    "#power_plants_source.head(20)"
   ]
  },
  {
   "cell_type": "code",
   "execution_count": 3,
   "metadata": {
    "scrolled": true
   },
   "outputs": [
    {
     "name": "stdout",
     "output_type": "stream",
     "text": [
      "29910\n"
     ]
    }
   ],
   "source": [
    "counting_of_pp = power_plants_source['Country'].count()\n",
    "print(counting_of_pp)"
   ]
  },
  {
   "cell_type": "code",
   "execution_count": 4,
   "metadata": {
    "scrolled": true
   },
   "outputs": [
    {
     "name": "stdout",
     "output_type": "stream",
     "text": [
      "1193616.45\n"
     ]
    }
   ],
   "source": [
    "USA = power_plants_source.loc[(power_plants_source[\"Country\"] == 'United States of America')]\n",
    "#print(USA['Primary Fuel'].value_counts())Solar')]\n",
    "USA_gas = power_plants_source.loc[(power_plants_source[\"Country\"] == 'United States of America') & (power_plants_source[\"Primary Fuel\"] == 'Gas')]\n",
    "USA_solar= power_plants_source.loc[(power_plants_source[\"Country\"] == 'United States of America') & (power_plants_source[\"Primary Fuel\"] == 'Solar')]\n",
    "#USA['Country'].count()\n",
    "print(USA['Capacity (MW)'].sum())"
   ]
  },
  {
   "cell_type": "code",
   "execution_count": 5,
   "metadata": {
    "scrolled": true
   },
   "outputs": [
    {
     "name": "stdout",
     "output_type": "stream",
     "text": [
      " Solar power is produced at a total of  27369.85 and gas produces on total  525687.8999999999. All of which is measured in MW. Gas produces 19.20682429753908 times more energy than solar in the US.\n"
     ]
    }
   ],
   "source": [
    "solar_output_total = USA_solar['Capacity (MW)'].sum()\n",
    "gas_output_total = USA_gas['Capacity (MW)'].sum()\n",
    "Comparison_of_power = gas_output_total / solar_output_total\n",
    "txt1 = \" Solar power is produced at a total of  {Solar} and gas produces on total  {Gas}. All of which is measured in MW. Gas produces {multiple} times more energy than solar in the US.\".format(Solar = solar_output_total, Gas = gas_output_total, multiple = Comparison_of_power)\n",
    "print(txt1)"
   ]
  },
  {
   "cell_type": "code",
   "execution_count": 6,
   "metadata": {
    "scrolled": true
   },
   "outputs": [],
   "source": [
    "#Clean Energy tables\n",
    "USA_hydro= power_plants_source.loc[(power_plants_source[\"Country\"] == 'United States of America') & (power_plants_source[\"Primary Fuel\"] == 'Hydro')]\n",
    "USA_wind = power_plants_source.loc[(power_plants_source[\"Country\"] == 'United States of America') & (power_plants_source[\"Primary Fuel\"] == 'Wind')]\n",
    "USA_nuclear = power_plants_source.loc[(power_plants_source[\"Country\"] == 'United States of America') & (power_plants_source[\"Primary Fuel\"] == 'Nuclear')]\n",
    "USA_geothermal = power_plants_source.loc[(power_plants_source[\"Country\"] == 'United States of America') & (power_plants_source[\"Primary Fuel\"] == 'Geothermal')]\n",
    "USA_biomass = power_plants_source.loc[(power_plants_source[\"Country\"] == 'United States of America') & (power_plants_source[\"Primary Fuel\"] == 'Biomass')]\n",
    "USA_waste = power_plants_source.loc[(power_plants_source[\"Country\"] == 'United States of America') & (power_plants_source[\"Primary Fuel\"] == 'Waste')]\n",
    "#USA['Country'].count()"
   ]
  },
  {
   "cell_type": "code",
   "execution_count": 7,
   "metadata": {},
   "outputs": [
    {
     "name": "stdout",
     "output_type": "stream",
     "text": [
      "342888.75\n"
     ]
    }
   ],
   "source": [
    "hydro_sum = USA_hydro['Capacity (MW)'].sum()\n",
    "wind_sum = USA_wind['Capacity (MW)'].sum()\n",
    "nuclear_sum = USA_nuclear['Capacity (MW)'].sum()\n",
    "geothermal_sum = USA_geothermal['Capacity (MW)'].sum()\n",
    "biomass_sum = USA_biomass['Capacity (MW)'].sum()\n",
    "waste_sum = USA_waste['Capacity (MW)'].sum()\n",
    "clean_total = hydro_sum + wind_sum + nuclear_sum + geothermal_sum + biomass_sum + waste_sum + solar_output_total\n",
    "print(clean_total) "
   ]
  },
  {
   "cell_type": "code",
   "execution_count": 8,
   "metadata": {},
   "outputs": [
    {
     "name": "stdout",
     "output_type": "stream",
     "text": [
      "The power difference between dirty and clean power out put is roughly 2.467640889355512 times. In favor of dirty power.\n"
     ]
    }
   ],
   "source": [
    "USA_coal= power_plants_source.loc[(power_plants_source[\"Country\"] == 'United States of America') & (power_plants_source[\"Primary Fuel\"] == 'Coal')]\n",
    "USA_oil= power_plants_source.loc[(power_plants_source[\"Country\"] == 'United States of America') & (power_plants_source[\"Primary Fuel\"] == 'Oil')]\n",
    "#-------------------------------------------------\n",
    "coal_sum = USA_coal['Capacity (MW)'].sum()\n",
    "oil_sum =USA_oil['Capacity (MW)'].sum()\n",
    "dirty_power = coal_sum + oil_sum + gas_output_total\n",
    "power_output_comparison = dirty_power / clean_total\n",
    "print('The power difference between dirty and clean power out put is roughly {total_energies} times. In favor of dirty power.'. format(total_energies = power_output_comparison))"
   ]
  },
  {
   "cell_type": "code",
   "execution_count": 9,
   "metadata": {
    "scrolled": true
   },
   "outputs": [
    {
     "name": "stdout",
     "output_type": "stream",
     "text": [
      "0.21421388949111136\n"
     ]
    }
   ],
   "source": [
    "all_power_sum = power_plants_source['Capacity (MW)'].sum()\n",
    "US_total= USA['Capacity (MW)'].sum()\n",
    "print(US_total / all_power_sum)\n",
    "#print(US_total)"
   ]
  },
  {
   "cell_type": "code",
   "execution_count": 10,
   "metadata": {
    "scrolled": true
   },
   "outputs": [
    {
     "name": "stdout",
     "output_type": "stream",
     "text": [
      "164\n"
     ]
    }
   ],
   "source": [
    "test_number = power_plants_source['Country'].nunique()\n",
    "print(test_number)"
   ]
  },
  {
   "cell_type": "code",
   "execution_count": 11,
   "metadata": {},
   "outputs": [
    {
     "name": "stdout",
     "output_type": "stream",
     "text": [
      "-171.7124\n",
      "144.8999\n"
     ]
    }
   ],
   "source": [
    "coordinate_tes_min = USA['Longitude'].min()\n",
    "coordinate_test_max = USA['Longitude'].max()\n",
    "print(coordinate_tes_min)\n",
    "print(coordinate_test_max)"
   ]
  },
  {
   "cell_type": "code",
   "execution_count": 12,
   "metadata": {
    "scrolled": true
   },
   "outputs": [],
   "source": [
    "africa = world_countries_source.loc[(world_countries_source[\"Continent\"] == 'Africa')]\n",
    "african_countries = list(africa['Country'])\n",
    "#thing = ['Algeria', 'Angola', 'Benin', 'Botswana', 'Burkina', 'Burundi', 'Cameroon', 'Cape Verde', 'Central African Republic', 'Chad', 'Comoros', 'Congo', 'Congo, Democratic Republic of', 'Djibouti', 'Egypt', 'Equatorial Guinea', 'Eritrea', 'Ethiopia', 'Gabon', 'Gambia', 'Ghana', 'Guinea', 'Guinea-Bissau', 'Ivory Coast', 'Kenya', 'Lesotho', 'Liberia', 'Libya', 'Madagascar', 'Malawi', 'Mali', 'Mauritania', 'Mauritius', 'Morocco', 'Mozambique', 'Namibia', 'Niger', 'Nigeria', 'Rwanda', 'Sao Tome and Principe', 'Senegal', 'Seychelles', 'Sierra Leone', 'Somalia', 'South Africa', 'South Sudan', 'Sudan', 'Swaziland', 'Tanzania', 'Togo', 'Tunisia', 'Uganda', 'Zambia', 'Zimbabwe']\n",
    "#capacity_values = []\n",
    "#for row in power_plants_source.iterrows():\n",
    " #   if power_plants_source['Country']  thing:\n",
    "  #      capacity_values.append(row['Capacity (MW)'])\n",
    "#prit(capacity_values)\n",
    "#print(african_countries)\n"
   ]
  },
  {
   "cell_type": "code",
   "execution_count": 13,
   "metadata": {
    "scrolled": false
   },
   "outputs": [],
   "source": [
    "country_name = []\n",
    "capacity_amount= []\n",
    "#print(power_plants_source.keys())\n",
    "\n",
    "for country in african_countries:\n",
    "    country_test = power_plants_source.loc[(power_plants_source['Country'] == country)]\n",
    "    #print(country_test.keys())\n",
    "    country_name.append(country_test['Country'])\n",
    "    capacity_amount.append(country_test['Capacity (MW)'])\n",
    "#print(country_name)"
   ]
  },
  {
   "cell_type": "code",
   "execution_count": 65,
   "metadata": {
    "scrolled": false
   },
   "outputs": [
    {
     "data": {
      "text/plain": [
       "array(['Africa', 'Asia', 'Europe', 'North America', 'Oceania',\n",
       "       'South America'], dtype=object)"
      ]
     },
     "execution_count": 65,
     "metadata": {},
     "output_type": "execute_result"
    }
   ],
   "source": [
    "world_countries_source['Continent'].unique()"
   ]
  },
  {
   "cell_type": "code",
   "execution_count": 69,
   "metadata": {
    "scrolled": true
   },
   "outputs": [],
   "source": [
    "capacity_continent = power_plants_source[['Country' , 'Capacity (MW)']]\n",
    "african_names = {\n",
    "    'Country' : african_countries\n",
    "}\n",
    "africa_country = pd.DataFrame(african_names)\n",
    "power_capacity = pd.DataFrame(capacity_continent)\n",
    "africa_merge = pd.merge(power_capacity, africa_country, how = 'right')"
   ]
  },
  {
   "cell_type": "code",
   "execution_count": 79,
   "metadata": {
    "scrolled": true
   },
   "outputs": [],
   "source": [
    "North_America = world_countries_source.loc[(world_countries_source[\"Continent\"] == 'North America')]\n",
    "North_America_countries = list(North_America['Country'])\n",
    "north_ameroca_name = {\n",
    "    'Country' : North_America_countries\n",
    "}\n",
    "NA_country = pd.DataFrame(north_ameroca_name)\n",
    "na_merge = pd.merge(power_capacity, NA_country, how = 'right')     \n",
    "#na_merge"
   ]
  },
  {
   "cell_type": "code",
   "execution_count": 80,
   "metadata": {
    "scrolled": true
   },
   "outputs": [],
   "source": [
    "South_America = world_countries_source.loc[(world_countries_source[\"Continent\"] == 'South America')]\n",
    "South_America_countries = list(South_America['Country'])\n",
    "south_ameroca_name = {\n",
    "    'Country' : South_America_countries\n",
    "}\n",
    "SA_country = pd.DataFrame(south_ameroca_name)\n",
    "power_capacity = pd.DataFrame(capacity_continent)\n",
    "sa_merge = pd.merge(power_capacity, SA_country, how = 'right')     \n",
    "#sa_merge"
   ]
  },
  {
   "cell_type": "code",
   "execution_count": 104,
   "metadata": {
    "scrolled": false
   },
   "outputs": [],
   "source": [
    "europe = world_countries_source.loc[(world_countries_source[\"Continent\"] == 'Europe')]\n",
    "europe_countries = list(europe['Country'])\n",
    "europe_names = {\n",
    "    'Country' : europe_countries\n",
    "}\n",
    "europe_country = pd.DataFrame(europe_names)\n",
    "europe_merge = pd.merge(power_capacity, europe_country, how = 'right')\n",
    "#europe_merge"
   ]
  },
  {
   "cell_type": "code",
   "execution_count": 108,
   "metadata": {},
   "outputs": [],
   "source": [
    "asia = world_countries_source.loc[(world_countries_source[\"Continent\"] == 'Asia')]\n",
    "asia_countries = list(asia['Country'])\n",
    "asia_names = {\n",
    "    'Country' : asia_countries\n",
    "}\n",
    "asia_country = pd.DataFrame(asia_names)\n",
    "asia_merge = pd.merge(power_capacity, asia_country, how = 'right')\n",
    "#asia_merge"
   ]
  }
 ],
 "metadata": {
  "kernelspec": {
   "display_name": "Python 3",
   "language": "python",
   "name": "python3"
  },
  "language_info": {
   "codemirror_mode": {
    "name": "ipython",
    "version": 3
   },
   "file_extension": ".py",
   "mimetype": "text/x-python",
   "name": "python",
   "nbconvert_exporter": "python",
   "pygments_lexer": "ipython3",
   "version": "3.6.10"
  }
 },
 "nbformat": 4,
 "nbformat_minor": 4
}
