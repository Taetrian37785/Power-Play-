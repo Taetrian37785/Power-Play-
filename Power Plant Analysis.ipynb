{
 "cells": [
  {
   "cell_type": "code",
   "execution_count": 1,
   "metadata": {},
   "outputs": [],
   "source": [
    "#Importing modules as needed \n",
    "import pandas as pd \n",
    "import numpy as np\n",
    "import matplotlib.pyplot as plt \n",
    "import scipy.stats as sts\n",
    "from datetime import date"
   ]
  },
  {
   "cell_type": "code",
   "execution_count": 26,
   "metadata": {
    "scrolled": false
   },
   "outputs": [],
   "source": [
    "# Calling in necassary data for pwoer plants \n",
    "power_plants_csv = pd.read_csv('Global Power Plant.csv')\n",
    "#Thanks to dbouquin for compuling the data for this https://github.com/dbouquin/IS_608\n",
    "world_countries_source_A = pd.read_csv('Countries-Continents.csv')\n",
    "power_plants_source = power_plants_csv.rename(columns = {'Capacity (MW)': 'Capacity'})\n",
    "world_countries_source = world_countries_source_A\n",
    "#power_plants_source"
   ]
  },
  {
   "cell_type": "code",
   "execution_count": 3,
   "metadata": {
    "scrolled": true
   },
   "outputs": [
    {
     "name": "stdout",
     "output_type": "stream",
     "text": [
      "29910\n"
     ]
    }
   ],
   "source": [
    "# Total number of power plants\n",
    "counting_of_pp = power_plants_source['Country'].count()\n",
    "print(counting_of_pp)"
   ]
  },
  {
   "cell_type": "code",
   "execution_count": 4,
   "metadata": {
    "scrolled": true
   },
   "outputs": [
    {
     "name": "stdout",
     "output_type": "stream",
     "text": [
      "1193616.45\n"
     ]
    }
   ],
   "source": [
    "#Totaling of power in gas and solar sectors\n",
    "USA = power_plants_source.loc[(power_plants_source[\"Country\"] == 'United States of America')]\n",
    "#print(USA['Primary Fuel'].value_counts())Solar')]\n",
    "USA_gas = power_plants_source.loc[(power_plants_source[\"Country\"] == 'United States of America') & (power_plants_source[\"Primary Fuel\"] == 'Gas')]\n",
    "USA_solar= power_plants_source.loc[(power_plants_source[\"Country\"] == 'United States of America') & (power_plants_source[\"Primary Fuel\"] == 'Solar')]\n",
    "#USA['Country'].count()\n",
    "print(USA['Capacity'].sum())"
   ]
  },
  {
   "cell_type": "code",
   "execution_count": 5,
   "metadata": {
    "scrolled": true
   },
   "outputs": [
    {
     "name": "stdout",
     "output_type": "stream",
     "text": [
      " Solar power is produced at a total of  27369.85 and gas produces on total  525687.8999999999. All of which is measured in MW. Gas produces 19.20682429753908 times more energy than solar in the US.\n"
     ]
    }
   ],
   "source": [
    "#Comparing the totals of gas and solar\n",
    "solar_output_total = USA_solar['Capacity'].sum()\n",
    "gas_output_total = USA_gas['Capacity'].sum()\n",
    "Comparison_of_power = gas_output_total / solar_output_total\n",
    "txt1 = \" Solar power is produced at a total of  {Solar} and gas produces on total  {Gas}. All of which is measured in MW. Gas produces {multiple} times more energy than solar in the US.\".format(Solar = solar_output_total, Gas = gas_output_total, multiple = Comparison_of_power)\n",
    "print(txt1)"
   ]
  },
  {
   "cell_type": "code",
   "execution_count": 6,
   "metadata": {
    "scrolled": true
   },
   "outputs": [],
   "source": [
    "#Clean Energy tables\n",
    "USA_hydro= power_plants_source.loc[(power_plants_source[\"Country\"] == 'United States of America') & (power_plants_source[\"Primary Fuel\"] == 'Hydro')]\n",
    "USA_wind = power_plants_source.loc[(power_plants_source[\"Country\"] == 'United States of America') & (power_plants_source[\"Primary Fuel\"] == 'Wind')]\n",
    "USA_nuclear = power_plants_source.loc[(power_plants_source[\"Country\"] == 'United States of America') & (power_plants_source[\"Primary Fuel\"] == 'Nuclear')]\n",
    "USA_geothermal = power_plants_source.loc[(power_plants_source[\"Country\"] == 'United States of America') & (power_plants_source[\"Primary Fuel\"] == 'Geothermal')]\n",
    "USA_biomass = power_plants_source.loc[(power_plants_source[\"Country\"] == 'United States of America') & (power_plants_source[\"Primary Fuel\"] == 'Biomass')]\n",
    "USA_waste = power_plants_source.loc[(power_plants_source[\"Country\"] == 'United States of America') & (power_plants_source[\"Primary Fuel\"] == 'Waste')]\n",
    "#USA['Country'].count()"
   ]
  },
  {
   "cell_type": "code",
   "execution_count": 7,
   "metadata": {},
   "outputs": [
    {
     "name": "stdout",
     "output_type": "stream",
     "text": [
      "342888.75\n"
     ]
    }
   ],
   "source": [
    "# Adding all of the clean energy \n",
    "hydro_sum = USA_hydro['Capacity'].sum()\n",
    "wind_sum = USA_wind['Capacity'].sum()\n",
    "nuclear_sum = USA_nuclear['Capacity'].sum()\n",
    "geothermal_sum = USA_geothermal['Capacity'].sum()\n",
    "biomass_sum = USA_biomass['Capacity'].sum()\n",
    "waste_sum = USA_waste['Capacity'].sum()\n",
    "clean_total = hydro_sum + wind_sum + nuclear_sum + geothermal_sum + biomass_sum + waste_sum + solar_output_total\n",
    "print(clean_total) "
   ]
  },
  {
   "cell_type": "code",
   "execution_count": 27,
   "metadata": {},
   "outputs": [
    {
     "name": "stdout",
     "output_type": "stream",
     "text": [
      "The power difference between dirty and clean power output is roughly 2.467640889355512 times. In favor of dirty power.\n"
     ]
    }
   ],
   "source": [
    "# Adding the remainder of dirty energy\n",
    "USA_coal= power_plants_source.loc[(power_plants_source[\"Country\"] == 'United States of America') & (power_plants_source[\"Primary Fuel\"] == 'Coal')]\n",
    "USA_oil= power_plants_source.loc[(power_plants_source[\"Country\"] == 'United States of America') & (power_plants_source[\"Primary Fuel\"] == 'Oil')]\n",
    "#-------------------------------------------------\n",
    "coal_sum = USA_coal['Capacity'].sum()\n",
    "oil_sum =USA_oil['Capacity'].sum()\n",
    "dirty_power = coal_sum + oil_sum + gas_output_total\n",
    "power_output_comparison = dirty_power / clean_total\n",
    "print('The power difference between dirty and clean power output is roughly {total_energies} times. In favor of dirty power.'. format(total_energies = power_output_comparison))"
   ]
  },
  {
   "cell_type": "code",
   "execution_count": 9,
   "metadata": {
    "scrolled": false
   },
   "outputs": [],
   "source": [
    "all_power_sum = power_plants_source['Capacity'].sum()\n"
   ]
  },
  {
   "cell_type": "code",
   "execution_count": 10,
   "metadata": {
    "scrolled": true
   },
   "outputs": [],
   "source": [
    "# Setting up for grabbing each continent starting with Africa\n",
    "africa = world_countries_source.loc[(world_countries_source[\"Continent\"] == 'Africa')]\n",
    "african_countries = list(africa['Country'])"
   ]
  },
  {
   "cell_type": "code",
   "execution_count": 11,
   "metadata": {
    "scrolled": false
   },
   "outputs": [],
   "source": [
    "country_name = []\n",
    "capacity_amount= []\n",
    "#print(power_plants_source.keys())\n",
    "\n",
    "for country in african_countries:\n",
    "    country_test = power_plants_source.loc[(power_plants_source['Country'] == country)]\n",
    "    country_name.append(country_test['Country'])\n",
    "    capacity_amount.append(country_test['Capacity'])\n",
    "#print(country_name)"
   ]
  },
  {
   "cell_type": "code",
   "execution_count": 12,
   "metadata": {
    "scrolled": true
   },
   "outputs": [],
   "source": [
    "# African countries and their capacties\n",
    "capacity_continent = power_plants_source[['Country' , 'Capacity']]\n",
    "african_names = {\n",
    "    'Country' : african_countries\n",
    "}\n",
    "africa_country = pd.DataFrame(african_names)\n",
    "power_capacity = pd.DataFrame(capacity_continent)\n",
    "africa_merge = pd.merge(power_capacity, africa_country, how = 'right')\n",
    "clean_africa_merge = africa_merge.dropna()"
   ]
  },
  {
   "cell_type": "code",
   "execution_count": 13,
   "metadata": {
    "scrolled": true
   },
   "outputs": [],
   "source": [
    "North_America = world_countries_source.loc[(world_countries_source[\"Continent\"] == 'North America')]\n",
    "North_America_countries = list(North_America['Country'])\n",
    "north_ameroca_name = {\n",
    "    'Country' : North_America_countries\n",
    "}\n",
    "NA_country = pd.DataFrame(north_ameroca_name)\n",
    "na_rename = NA_country.replace({'US' : \"United States of America\"})\n",
    "na_merge = pd.merge(power_capacity, na_rename, how = 'right')     \n",
    "clean_na_merge= na_merge.dropna()\n",
    "#na_merge"
   ]
  },
  {
   "cell_type": "code",
   "execution_count": 14,
   "metadata": {
    "scrolled": true
   },
   "outputs": [],
   "source": [
    "South_America = world_countries_source.loc[(world_countries_source[\"Continent\"] == 'South America')]\n",
    "South_America_countries = list(South_America['Country'])\n",
    "south_ameroca_name = {\n",
    "    'Country' : South_America_countries\n",
    "}\n",
    "SA_country = pd.DataFrame(south_ameroca_name)\n",
    "power_capacity = pd.DataFrame(capacity_continent)\n",
    "sa_merge = pd.merge(power_capacity, SA_country, how = 'right')     \n",
    "clean_sa_merge = sa_merge.dropna()\n",
    "#sa_merge"
   ]
  },
  {
   "cell_type": "code",
   "execution_count": 15,
   "metadata": {
    "scrolled": false
   },
   "outputs": [],
   "source": [
    "europe = world_countries_source.loc[(world_countries_source[\"Continent\"] == 'Europe')]\n",
    "europe_countries = list(europe['Country'])\n",
    "europe_names = {\n",
    "    'Country' : europe_countries\n",
    "}\n",
    "europe_country = pd.DataFrame(europe_names)\n",
    "europe_merge = pd.merge(power_capacity, europe_country, how = 'right')\n",
    "clean_europe_merge = europe_merge.dropna()\n",
    "#clean_europe_merge"
   ]
  },
  {
   "cell_type": "code",
   "execution_count": 16,
   "metadata": {
    "scrolled": false
   },
   "outputs": [],
   "source": [
    "asia = world_countries_source.loc[(world_countries_source[\"Continent\"] == 'Asia')]\n",
    "asia_countries = list(asia['Country'])\n",
    "asia_names = {\n",
    "    'Country' : asia_countries\n",
    "}\n",
    "asia_country = pd.DataFrame(asia_names)\n",
    "# Needed to change names to make sure both data files have the same countries names to make sure\n",
    "# all plants are known and represented. Some countries do have different names on each CSV\n",
    "# more than 95% of the plants are present\n",
    "asia_merge_rename = asia_country.replace({'Korea, North': 'North Korea', \n",
    "                                          'Korea, South': 'South Korea',\n",
    "                                          'Russian Federation': 'Russia',\n",
    "                                          'Syria': 'Syrian Arab Republic',\n",
    "                                          'Brunei':  'Brunei Darussalam'})\n",
    "asia_merge = pd.merge(power_capacity, asia_merge_rename, how = 'right')\n",
    "clean_asia_merge = asia_merge.dropna()\n",
    "#asia_merge"
   ]
  },
  {
   "cell_type": "code",
   "execution_count": 17,
   "metadata": {
    "scrolled": true
   },
   "outputs": [],
   "source": [
    "oceania = world_countries_source.loc[(world_countries_source[\"Continent\"] == 'Oceania')]\n",
    "oceania_countries = list(oceania['Country'])\n",
    "oceania_names = {\n",
    "    'Country' : oceania_countries\n",
    "}\n",
    "oceania_country = pd.DataFrame(oceania_names)\n",
    "oceania_merge = pd.merge(power_capacity, oceania_country, how = 'right')\n",
    "clean_oceania_merge = oceania_merge.dropna()\n"
   ]
  },
  {
   "cell_type": "code",
   "execution_count": 28,
   "metadata": {
    "scrolled": true
   },
   "outputs": [],
   "source": [
    "#print(power_plants_source['Country'].unique())\n",
    "#print(oceania_names)\n",
    "#print('Marshall Islands ,Micronesia, Nauru, Palau, ''Palau'', ''Papua' 'New Guinea'', ''Samoa'', 'Solomon Islands', 'Tonga', 'Tuvalu', 'Vanuatu''')"
   ]
  },
  {
   "cell_type": "code",
   "execution_count": 29,
   "metadata": {
    "scrolled": true
   },
   "outputs": [],
   "source": [
    "africa_total_power = clean_africa_merge['Capacity'].sum()\n",
    "na_total_power = clean_na_merge['Capacity'].sum()\n",
    "sa_total_power = clean_sa_merge['Capacity'].sum()\n",
    "asia_total_power = clean_asia_merge['Capacity'].sum()\n",
    "europe_total_power = clean_europe_merge['Capacity'].sum()\n",
    "oceania_total_power = clean_oceania_merge['Capacity'].sum()\n",
    "\n",
    "#Continental power contributions \n",
    "cont_africa = africa_total_power/all_power_sum\n",
    "cont_na = na_total_power/all_power_sum\n",
    "cont_sa = sa_total_power/all_power_sum\n",
    "cont_asia = asia_total_power/all_power_sum\n",
    "cont_europe = europe_total_power/all_power_sum\n",
    "cont_oceania = oceania_total_power/all_power_sum"
   ]
  },
  {
   "cell_type": "code",
   "execution_count": 20,
   "metadata": {
    "scrolled": true
   },
   "outputs": [
    {
     "data": {
      "text/plain": [
       "([<matplotlib.patches.Wedge at 0x2260fe04fd0>,\n",
       "  <matplotlib.patches.Wedge at 0x2260ffa4a58>,\n",
       "  <matplotlib.patches.Wedge at 0x2260ffb44a8>,\n",
       "  <matplotlib.patches.Wedge at 0x2260ffb4eb8>,\n",
       "  <matplotlib.patches.Wedge at 0x2260ffbf908>,\n",
       "  <matplotlib.patches.Wedge at 0x2260ffcc358>],\n",
       " [Text(-0.09638364081316268, 1.0957692246926811, 'Afroca'),\n",
       "  Text(-1.0783298264003107, -0.21726662305903258, 'Asia'),\n",
       "  Text(0.6925656070265825, -0.8546068569604981, 'Europe'),\n",
       "  Text(1.0227654497630496, 0.4049084276364066, 'North America'),\n",
       "  Text(0.5400234420330808, 1.5061124400438182, 'Oceania'),\n",
       "  Text(0.3164823903499898, 2.0760151484510794, 'South America')],\n",
       " [Text(-0.05257289498899782, 0.597692304377826, '2.8%'),\n",
       "  Text(-0.5881799053092603, -0.11850906712310866, '50.7%'),\n",
       "  Text(0.3777630583781359, -0.4661491947057262, '14.6%'),\n",
       "  Text(0.5578720635071178, 0.22085914234713086, '25.7%'),\n",
       "  Text(0.3712661163977431, 1.035452302530125, '1.3%'),\n",
       "  Text(0.2411294402666589, 1.5817258273912986, '4.8%')])"
      ]
     },
     "execution_count": 20,
     "metadata": {},
     "output_type": "execute_result"
    },
    {
     "data": {
      "image/png": "[encoded data removed]",
      "text/plain": [
       "<Figure size 432x288 with 1 Axes>"
      ]
     },
     "metadata": {},
     "output_type": "display_data"
    }
   ],
   "source": [
    "continent_power = [africa_total_power, asia_total_power, europe_total_power, na_total_power, oceania_total_power, sa_total_power]\n",
    "# Labels for the sections of our pie chart\n",
    "labels = [\"Afroca\", \"Asia\", \"Europe\", \"North America\" , \"Oceania\", \"South America\"]\n",
    "\n",
    "# The colors of each section of the pie chart\n",
    "colors = [\"orange\", \"green\", \"blue\", \"gold\" , \"purple\" , \"red\"]\n",
    "\n",
    "# Tells matplotlib to seperate the \"Humans\" section from the others\n",
    "explode = (0, 0, 0, 0, 0.5, 1 )\n",
    "plt.pie(continent_power,  labels=labels, colors=colors,explode = explode, \n",
    "        autopct=\"%1.1f%%\", shadow=True, startangle=90)"
   ]
  },
  {
   "cell_type": "code",
   "execution_count": 21,
   "metadata": {
    "scrolled": true
   },
   "outputs": [
    {
     "data": {
      "text/plain": [
       "array(['Hydro', 'Gas', 'Other', 'Oil', 'Nuclear', 'Coal', 'Solar', 'Wind',\n",
       "       'Waste', 'Biomass', 'Wave and Tidal', 'Petcoke', 'Geothermal',\n",
       "       'Cogeneration', 'Storage'], dtype=object)"
      ]
     },
     "execution_count": 21,
     "metadata": {},
     "output_type": "execute_result"
    }
   ],
   "source": [
    "total_rename_df =  world_countries_source.replace({'Korea, North': 'North Korea', \n",
    "                                          'Korea, South': 'South Korea',\n",
    "                                          'Russian Federation': 'Russia',\n",
    "                                          'Syria': 'Syrian Arab Republic',\n",
    "                                          'Brunei':  'Brunei Darussalam',\n",
    "                                          'US' : \"United States of America\"})\n",
    "total_merge = pd.merge(power_plants_source, total_rename_df)\n",
    "total_clean = total_merge.dropna(subset=['Continent'])\n",
    "total_clean['Primary Fuel'].unique()"
   ]
  },
  {
   "cell_type": "code",
   "execution_count": 22,
   "metadata": {
    "scrolled": false
   },
   "outputs": [
    {
     "name": "stdout",
     "output_type": "stream",
     "text": [
      "There is a total number of 947 Hydro plants in the filtered countires. \n",
      "There is a total number of 170 Gas plants in the filtered countires. \n",
      "There is a total number of 0 Other plants in the filtered countires. \n",
      "There is a total number of 5 Oil plants in the filtered countires. \n",
      "There is a total number of 12 Nuclear plants in the filtered countires. \n",
      "There is a total number of 946 Coal plants in the filtered countires. \n",
      "There is a total number of 124 Solar plants in the filtered countires. \n",
      "There is a total number of 835 Wind plants in the filtered countires. \n",
      "There is a total number of 0 Waste plants in the filtered countires. \n",
      "There is a total number of 0 Biomass plants in the filtered countires. \n",
      "There is a total number of 0 Wave and Tidal plants in the filtered countires. \n",
      "There is a total number of 0 Petcoke plants in the filtered countires. \n",
      "There is a total number of 2 Geothermal plants in the filtered countires. \n",
      "There is a total number of 0 Cogeneration plants in the filtered countires. \n",
      "There is a total number of 0 Storage plants in the filtered countires. \n"
     ]
    }
   ],
   "source": [
    "query_country = ('China')\n",
    "test_query = total_clean.query(\"Country in @query_country\")\n",
    "\n",
    "query_hydro_lock =  test_query.loc[(test_query['Primary Fuel'] == 'Hydro')]\n",
    "\n",
    "plant_types = list(total_clean['Primary Fuel'].unique())\n",
    "for plant in plant_types:\n",
    "    hydro_lock =  test_query.loc[(test_query['Primary Fuel'] == plant)]\n",
    "    query_total = hydro_lock['Primary Fuel'].count()\n",
    "    print(f'There is a total number of {query_total} {plant} plants in the filtered countires. ')\n"
   ]
  },
  {
   "cell_type": "code",
   "execution_count": 23,
   "metadata": {
    "scrolled": true
   },
   "outputs": [
    {
     "name": "stdout",
     "output_type": "stream",
     "text": [
      "From the filtered countries Hydro plants produce 259025.59999999998 MW\n",
      "From the filtered countries Gas plants produce 59774.5 MW\n",
      "From the filtered countries Other plants produce 0.0 MW\n",
      "From the filtered countries Oil plants produce 1329.0 MW\n",
      "From the filtered countries Nuclear plants produce 33402.0 MW\n",
      "From the filtered countries Coal plants produce 955718.0 MW\n",
      "From the filtered countries Solar plants produce 3017.2200000000003 MW\n",
      "From the filtered countries Wind plants produce 50990.36 MW\n",
      "From the filtered countries Waste plants produce 0.0 MW\n",
      "From the filtered countries Biomass plants produce 0.0 MW\n",
      "From the filtered countries Wave and Tidal plants produce 0.0 MW\n",
      "From the filtered countries Petcoke plants produce 0.0 MW\n",
      "From the filtered countries Geothermal plants produce 26.1 MW\n",
      "From the filtered countries Cogeneration plants produce 0.0 MW\n",
      "From the filtered countries Storage plants produce 0.0 MW\n"
     ]
    }
   ],
   "source": [
    "for i in plant_types:\n",
    "    hydro_lock =  test_query.loc[(test_query['Primary Fuel'] == i)]\n",
    "    query_sum = hydro_lock['Capacity'].sum()\n",
    "    print(f'From the filtered countries {i} plants produce {query_sum} MW')"
   ]
  },
  {
   "cell_type": "code",
   "execution_count": 24,
   "metadata": {
    "scrolled": false
   },
   "outputs": [
    {
     "data": {
      "text/html": [
       "<div>\n",
       "<style scoped>\n",
       "    .dataframe tbody tr th:only-of-type {\n",
       "        vertical-align: middle;\n",
       "    }\n",
       "\n",
       "    .dataframe tbody tr th {\n",
       "        vertical-align: top;\n",
       "    }\n",
       "\n",
       "    .dataframe thead th {\n",
       "        text-align: right;\n",
       "    }\n",
       "</style>\n",
       "<table border=\"1\" class=\"dataframe\">\n",
       "  <thead>\n",
       "    <tr style=\"text-align: right;\">\n",
       "      <th></th>\n",
       "      <th>Types</th>\n",
       "      <th>Capacity</th>\n",
       "    </tr>\n",
       "  </thead>\n",
       "  <tbody>\n",
       "    <tr>\n",
       "      <th>0</th>\n",
       "      <td>Hydro</td>\n",
       "      <td>19.000137</td>\n",
       "    </tr>\n",
       "    <tr>\n",
       "      <th>1</th>\n",
       "      <td>Gas</td>\n",
       "      <td>4.384600</td>\n",
       "    </tr>\n",
       "    <tr>\n",
       "      <th>2</th>\n",
       "      <td>Coal</td>\n",
       "      <td>70.104164</td>\n",
       "    </tr>\n",
       "    <tr>\n",
       "      <th>3</th>\n",
       "      <td>Wind</td>\n",
       "      <td>3.740263</td>\n",
       "    </tr>\n",
       "    <tr>\n",
       "      <th>4</th>\n",
       "      <td>[Other, Oil, Nuclear, Solar, Waste, Biomass, W...</td>\n",
       "      <td>2.770835</td>\n",
       "    </tr>\n",
       "  </tbody>\n",
       "</table>\n",
       "</div>"
      ],
      "text/plain": [
       "                                               Types   Capacity\n",
       "0                                              Hydro  19.000137\n",
       "1                                                Gas   4.384600\n",
       "2                                               Coal  70.104164\n",
       "3                                               Wind   3.740263\n",
       "4  [Other, Oil, Nuclear, Solar, Waste, Biomass, W...   2.770835"
      ]
     },
     "execution_count": 24,
     "metadata": {},
     "output_type": "execute_result"
    }
   ],
   "source": [
    "current_county_sum = test_query[\"Capacity\"].sum()\n",
    "percents_power = []\n",
    "countries_for_percent = []\n",
    "\n",
    "for average in plant_types:\n",
    "    hydro_lock =  test_query.loc[(test_query['Primary Fuel'] == average)]\n",
    "    query_percent = hydro_lock['Capacity'].sum() / current_county_sum * 100\n",
    "    #print(f'{average} plants makeup about  {query_percent} percent of the power output')\n",
    "    percents_power.append(query_percent)\n",
    "    countries_for_percent.append(average)\n",
    "\n",
    "chart_dict = {\n",
    "    \"Types\": countries_for_percent,\n",
    "    \"Capacity\": percents_power\n",
    "}\n",
    "\n",
    "pie_chart_y = pd.DataFrame(chart_dict)\n",
    "query_for_chart_low = pie_chart_y.query('Capacity <= 3')\n",
    "query_for_chart_high = pie_chart_y.query('Capacity >= 3')\n",
    "sum_for_lower_other = query_for_chart_low['Capacity'].sum()\n",
    "types_for_low = list(query_for_chart_low['Types'])\n",
    "chart_high_value_types = list(query_for_chart_high[\"Types\"])\n",
    "chart_high_value_capacity = list(query_for_chart_high[\"Capacity\"])\n",
    "#print(chart_high_value_types)\n",
    "chart_dict_part_2 = {\n",
    "    \"Types\" : types_for_low, \n",
    "    \"Capacity\":  sum_for_lower_other\n",
    "}\n",
    "\n",
    "test_part_2 = query_for_chart_high.append(chart_dict_part_2, ignore_index = True)\n",
    "test_part_2"
   ]
  },
  {
   "cell_type": "code",
   "execution_count": 25,
   "metadata": {
    "scrolled": false
   },
   "outputs": [
    {
     "data": {
      "text/plain": [
       "([<matplotlib.patches.Wedge at 0x2261004e8d0>,\n",
       "  <matplotlib.patches.Wedge at 0x2261005a320>,\n",
       "  <matplotlib.patches.Wedge at 0x2261005ad30>,\n",
       "  <matplotlib.patches.Wedge at 0x22610063780>,\n",
       "  <matplotlib.patches.Wedge at 0x226100701d0>],\n",
       " [Text(-1.2365912542458166, 1.819571946893763, 'Hydro'),\n",
       "  Text(-2.1373423221031023, 0.521313531521023, 'Gas'),\n",
       "  Text(1.1123649825489546, -1.898063261748371, 'Coal'),\n",
       "  Text(0.6324683820656549, 2.1071268935892906, 'Wind'),\n",
       "  Text(0.1912647701095961, 2.191670090984253, \"['Other', 'Oil', 'Nuclear', 'Solar', 'Waste', 'Biomass', 'Wave and Tidal', 'Petcoke', 'Geothermal', 'Cogeneration', 'Storage']\")],\n",
       " [Text(-0.674504320497718, 0.9924937892147796, '19.0%'),\n",
       "  Text(-1.16582308478351, 0.2843528353751034, '4.4%'),\n",
       "  Text(0.6067445359357932, -1.0353072336809295, '70.1%'),\n",
       "  Text(0.3449827538539935, 1.1493419419577948, '3.7%'),\n",
       "  Text(0.10432623824159787, 1.1954564132641379, '2.8%')])"
      ]
     },
     "execution_count": 25,
     "metadata": {},
     "output_type": "execute_result"
    },
    {
     "data": {
      "image/png": "[encoded data removed]",
      "text/plain": [
       "<Figure size 432x288 with 1 Axes>"
      ]
     },
     "metadata": {},
     "output_type": "display_data"
    }
   ],
   "source": [
    "#colors = [\"orange\", \"green\", \"blue\", \"gold\" , \"purple\" , \"red\"]\n",
    "\n",
    "# Tells matplotlib to seperate the \"Humans\" section from the others\n",
    "#explode2 = (0, 0, 0.25, 0, 0 , 0 , 0.25)\n",
    "plt.pie(test_part_2['Capacity'],  labels=test_part_2['Types'], \n",
    "        autopct=\"%1.1f%%\", shadow=True,  radius = 2, startangle=90)"
   ]
  }
 ],
 "metadata": {
  "kernelspec": {
   "display_name": "Python 3",
   "language": "python",
   "name": "python3"
  },
  "language_info": {
   "codemirror_mode": {
    "name": "ipython",
    "version": 3
   },
   "file_extension": ".py",
   "mimetype": "text/x-python",
   "name": "python",
   "nbconvert_exporter": "python",
   "pygments_lexer": "ipython3",
   "version": "3.6.10"
  }
 },
 "nbformat": 4,
 "nbformat_minor": 4
}
